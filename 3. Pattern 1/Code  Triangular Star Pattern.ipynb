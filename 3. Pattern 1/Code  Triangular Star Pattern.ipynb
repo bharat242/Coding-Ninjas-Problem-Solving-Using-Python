{
 "cells": [
  {
   "cell_type": "markdown",
   "metadata": {},
   "source": [
    "# Code : Triangular Star Pattern\n",
    "Print the following pattern for the given N number of rows.<br>\n",
    "Pattern for N = 4<br>\n",
    "![](https://imgpress.xyz/images/2021/10/11/SrTsgrS---Imgur.png)<br>\n",
    "<br>\n",
    "Note : There are no spaces between the stars.<br>\n",
    "Input format :<br>\n",
    "Integer N (Total no. of rows)<br>\n",
    "Output format :<br>\n",
    "Pattern in N lines<br>\n",
    "Constraints<br>\n",
    "0 <= N <= 50<br>\n",
    "Sample Input 1:<br>\n",
    "5<br>\n",
    "Sample Output 1:<br>\n",
    "![](https://imgpress.xyz/images/2021/10/11/B1x6IkM---Imgur.png)<br>\n",
    "Sample Input 2:<br>\n",
    "6<br>\n",
    "Sample Output 2:<br>\n",
    "![](https://imgpress.xyz/images/2021/10/11/iwTrMTd---Imgur.png)"
   ]
  },
  {
   "cell_type": "code",
   "execution_count": 1,
   "metadata": {},
   "outputs": [
    {
     "name": "stdout",
     "output_type": "stream",
     "text": [
      "5\n",
      "*\n",
      "**\n",
      "***\n",
      "****\n",
      "*****\n"
     ]
    }
   ],
   "source": [
    "n=int(input())\n",
    "i=1\n",
    "while i<=n:\n",
    "    star=1\n",
    "    while star<=i:\n",
    "        print(\"*\",end=\"\")\n",
    "        star+=1\n",
    "\n",
    "    print(\"\")\n",
    "    i=i+1"
   ]
  }
 ],
 "metadata": {
  "kernelspec": {
   "display_name": "Python 3",
   "language": "python",
   "name": "python3"
  },
  "language_info": {
   "codemirror_mode": {
    "name": "ipython",
    "version": 3
   },
   "file_extension": ".py",
   "mimetype": "text/x-python",
   "name": "python",
   "nbconvert_exporter": "python",
   "pygments_lexer": "ipython3",
   "version": "3.8.6"
  }
 },
 "nbformat": 4,
 "nbformat_minor": 4
}
