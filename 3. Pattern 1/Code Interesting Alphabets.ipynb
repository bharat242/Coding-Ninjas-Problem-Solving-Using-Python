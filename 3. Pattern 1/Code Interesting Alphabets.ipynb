{
 "cells": [
  {
   "cell_type": "markdown",
   "metadata": {},
   "source": [
    "# Code : Interesting Alphabets\n",
    "<br>\n",
    "Print the following pattern for the given number of rows.<br>\n",
    "<br>\n",
    "Pattern for N = 5<br>\n",
    "E<br>\n",
    "DE<br>\n",
    "CDE<br>\n",
    "BCDE<br>\n",
    "ABCDE<br>\n",
    "<br>\n",
    "Input format :<br>\n",
    "N (Total no. of rows)<br>\n",
    "<br>\n",
    "Output format :<br>\n",
    "Pattern in N lines<br>\n",
    "<br>\n",
    "Constraints<br>\n",
    "0 <= N <= 26<br>\n",
    "<br>\n",
    "Sample Input 1:<br>\n",
    "8<br>\n",
    "Sample Output 1:<br>\n",
    "H<br>\n",
    "GH<br>\n",
    "FGH<br>\n",
    "EFGH<br>\n",
    "DEFGH<br>\n",
    "CDEFGH<br>\n",
    "BCDEFGH<br>\n",
    "ABCDEFGH<br>\n",
    "Sample Input 2:<br>\n",
    "7<br>\n",
    "Sample Output 2:<br>\n",
    "G<br>\n",
    "FG<br>\n",
    "EFG<br>\n",
    "DEFG<br>\n",
    "CDEFG<br>\n",
    "BCDEFG<br>\n",
    "ABCDEFG"
   ]
  },
  {
   "cell_type": "code",
   "execution_count": null,
   "metadata": {},
   "outputs": [],
   "source": [
    "n=int(input())\n",
    "currRow=1\n",
    "while currRow<=n:\n",
    "    currCol=1\n",
    "    char=ord('A')+n-currRow\n",
    "    while currCol<=currRow:\n",
    "        print(chr(char+currCol-1),end=\"\")\n",
    "        currCol+=1\n",
    "    print()\n",
    "    currRow+=1"
   ]
  }
 ],
 "metadata": {
  "kernelspec": {
   "display_name": "Python 3",
   "language": "python",
   "name": "python3"
  },
  "language_info": {
   "codemirror_mode": {
    "name": "ipython",
    "version": 3
   },
   "file_extension": ".py",
   "mimetype": "text/x-python",
   "name": "python",
   "nbconvert_exporter": "python",
   "pygments_lexer": "ipython3",
   "version": "3.8.6"
  }
 },
 "nbformat": 4,
 "nbformat_minor": 4
}
