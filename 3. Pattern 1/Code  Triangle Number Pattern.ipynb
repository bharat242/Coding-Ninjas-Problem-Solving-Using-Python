{
 "cells": [
  {
   "cell_type": "markdown",
   "metadata": {},
   "source": [
    "# Code : Triangle Number Pattern\n",
    "Code : Triangle Number Pattern<br>\n",
    "<br>\n",
    "Print the following pattern for the given N number of rows.<br>\n",
    "<br>\n",
    "Pattern for N = 4<br>\n",
    "1<br>\n",
    "22<br>\n",
    "333<br>\n",
    "4444<br>\n",
    "<br>\n",
    "Input format :<br>\n",
    "Integer N (Total no. of rows)<br>\n",
    "<br>\n",
    "Output format :<br>\n",
    "Pattern in N lines<br>\n",
    "<br>\n",
    "Constraints<br>\n",
    "0 <= N <= 50<br>\n",
    "<br>\n",
    "Sample Input 1:<br>\n",
    "5<br>\n",
    "Sample Output 1:<br>\n",
    "1<br>\n",
    "22<br>\n",
    "333<br>\n",
    "4444<br>\n",
    "55555<br>\n",
    "Sample Input 2:<br>\n",
    "6<br>\n",
    "Sample Output 2:<br>\n",
    "1<br>\n",
    "22<br>\n",
    "333<br>\n",
    "4444<br>\n",
    "55555<br>\n",
    "666666"
   ]
  },
  {
   "cell_type": "code",
   "execution_count": null,
   "metadata": {},
   "outputs": [],
   "source": [
    "n=int(input())\n",
    "i=1\n",
    "num=1\n",
    "while i<=n:\n",
    "    pattern=1\n",
    "    while pattern<=i: #no of Colums\n",
    "        print(num,end=\"\")\n",
    "        pattern+=1\n",
    "    num+=1\n",
    "    print(\"\")\n",
    "    i=i+1"
   ]
  },
  {
   "cell_type": "code",
   "execution_count": null,
   "metadata": {},
   "outputs": [],
   "source": [
    "#Another Solution For Above Problem"
   ]
  },
  {
   "cell_type": "code",
   "execution_count": null,
   "metadata": {},
   "outputs": [],
   "source": [
    "n = int(input())\n",
    "i = 1\n",
    "k = 1\n",
    "while i <= n:\n",
    "    j = 1\n",
    "    while j <= i:  # no of Colums\n",
    "        print(k, end=\"\")\n",
    "        j = j + 1\n",
    "    print(\"\")\n",
    "    i = i + 1\n",
    "    k = k + 1"
   ]
  },
  {
   "cell_type": "code",
   "execution_count": null,
   "metadata": {},
   "outputs": [],
   "source": [
    "#Another Solution For Above Problem"
   ]
  },
  {
   "cell_type": "code",
   "execution_count": null,
   "metadata": {},
   "outputs": [],
   "source": [
    "n=int(input())\n",
    "i=1\n",
    "num=1\n",
    "while i<=n:\n",
    "    pattern=1\n",
    "    while pattern<=i: #no of Colums\n",
    "        print(num,end=\"\")\n",
    "        pattern+=1\n",
    "        \n",
    "    num+=1\n",
    "    print(\"\")\n",
    "    i=i+1"
   ]
  }
 ],
 "metadata": {
  "kernelspec": {
   "display_name": "Python 3",
   "language": "python",
   "name": "python3"
  },
  "language_info": {
   "codemirror_mode": {
    "name": "ipython",
    "version": 3
   },
   "file_extension": ".py",
   "mimetype": "text/x-python",
   "name": "python",
   "nbconvert_exporter": "python",
   "pygments_lexer": "ipython3",
   "version": "3.8.6"
  }
 },
 "nbformat": 4,
 "nbformat_minor": 4
}
