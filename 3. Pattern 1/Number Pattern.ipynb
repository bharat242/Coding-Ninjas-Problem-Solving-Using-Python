{
 "cells": [
  {
   "cell_type": "markdown",
   "metadata": {},
   "source": [
    "# Number Pattern\n",
    "Print the following pattern for the given N number of rows.<br>\n",
    "<br>\n",
    "Pattern for N = 4<br>\n",
    "1234<br>\n",
    "123<br>\n",
    "12<br>\n",
    "1<br>\n",
    "<br>\n",
    "Input format :<br>\n",
    "Integer N (Total no. of rows)<br>\n",
    "<br>\n",
    "Output format :<br>\n",
    "Pattern in N lines<br>\n",
    "<br>\n",
    "Sample Input :<br>\n",
    "5<br>\n",
    "Sample Output :<br>\n",
    "12345<br>\n",
    "1234<br>\n",
    "123<br>\n",
    "12<br>\n",
    "1"
   ]
  },
  {
   "cell_type": "code",
   "execution_count": null,
   "metadata": {},
   "outputs": [],
   "source": [
    "n=int(input())\n",
    "i=0\n",
    "while(i<n):\n",
    "    j=1\n",
    "    while(j<n-i+1):\n",
    "        print(j,end='')\n",
    "        j+=1\n",
    "    i+=1\n",
    "    print()"
   ]
  }
 ],
 "metadata": {
  "kernelspec": {
   "display_name": "Python 3",
   "language": "python",
   "name": "python3"
  },
  "language_info": {
   "codemirror_mode": {
    "name": "ipython",
    "version": 3
   },
   "file_extension": ".py",
   "mimetype": "text/x-python",
   "name": "python",
   "nbconvert_exporter": "python",
   "pygments_lexer": "ipython3",
   "version": "3.8.6"
  }
 },
 "nbformat": 4,
 "nbformat_minor": 4
}
