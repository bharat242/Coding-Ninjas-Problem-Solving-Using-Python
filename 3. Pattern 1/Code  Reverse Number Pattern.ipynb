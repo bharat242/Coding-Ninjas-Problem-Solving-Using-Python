{
 "cells": [
  {
   "cell_type": "markdown",
   "metadata": {},
   "source": [
    "# Code : Reverse Number Pattern\n",
    "Print the following pattern for the given N number of rows.<br>\n",
    "<br>\n",
    "Pattern for N = 4<br>\n",
    "1<br>\n",
    "21<br>\n",
    "321<br>\n",
    "4321<br>\n",
    "<br>\n",
    "Input format :<br>\n",
    "Integer N (Total no. of rows)<br>\n",
    "<br>\n",
    "Output format :<br>\n",
    "Pattern in N lines<br>\n",
    "<br>\n",
    "Constraints<br>\n",
    "0 <= N <= 50<br>\n",
    "<br>\n",
    "Sample Input 1:<br>\n",
    "5<br>\n",
    "Sample Output 1:<br>\n",
    "1<br>\n",
    "21<br>\n",
    "321<br>\n",
    "4321<br>\n",
    "54321<br>\n",
    "Sample Input 2:<br>\n",
    "6<br>\n",
    "Sample Output 2:<br>\n",
    "1<br>\n",
    "21<br>\n",
    "321<br>\n",
    "4321<br>\n",
    "54321<br>\n",
    "654321"
   ]
  },
  {
   "cell_type": "code",
   "execution_count": null,
   "metadata": {},
   "outputs": [],
   "source": [
    "n=int(input())\n",
    "\n",
    "currRow=1\n",
    "while currRow<=n:\n",
    "    currCol=currRow\n",
    "    \n",
    "    while currCol>=1:\n",
    "        print(currCol,end=\"\")\n",
    "        currCol-=1\n",
    "    print()\n",
    "    currRow+=1"
   ]
  }
 ],
 "metadata": {
  "kernelspec": {
   "display_name": "Python 3",
   "language": "python",
   "name": "python3"
  },
  "language_info": {
   "codemirror_mode": {
    "name": "ipython",
    "version": 3
   },
   "file_extension": ".py",
   "mimetype": "text/x-python",
   "name": "python",
   "nbconvert_exporter": "python",
   "pygments_lexer": "ipython3",
   "version": "3.8.6"
  }
 },
 "nbformat": 4,
 "nbformat_minor": 4
}
