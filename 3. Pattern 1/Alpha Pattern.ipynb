{
 "cells": [
  {
   "cell_type": "markdown",
   "metadata": {},
   "source": [
    "# Alpha Pattern\n",
    "Print the following pattern for the given N number of rows.<br>\n",
    "<br>\n",
    "Pattern for N = 3<br>\n",
    "A<br>\n",
    "BB<br>\n",
    "CCC<br>\n",
    "<br>\n",
    "Input format :<br>\n",
    "Integer N (Total no. of rows)<br>\n",
    "<br>\n",
    "Output format :<br>\n",
    "Pattern in N lines<br>\n",
    "<br>\n",
    "Constraints<br>\n",
    "0 <= N <= 26<br>\n",
    "<br>\n",
    "Sample Input 1:<br>\n",
    "7<br>\n",
    "Sample Output 1:<br>\n",
    "A<br>\n",
    "BB<br>\n",
    "CCC<br>\n",
    "DDDD<br>\n",
    "EEEEE<br>\n",
    "FFFFFF<br>\n",
    "GGGGGGG<br>\n",
    "Sample Input 2:<br>\n",
    "6<br>\n",
    "Sample Output 2:<br>\n",
    "A<br>\n",
    "BB<br>\n",
    "CCC<br>\n",
    "DDDD<br>\n",
    "EEEEE<br>\n",
    "FFFFFF"
   ]
  },
  {
   "cell_type": "code",
   "execution_count": null,
   "metadata": {},
   "outputs": [],
   "source": [
    "n=int(input())\n",
    "currRow=1\n",
    "while currRow<=n:\n",
    "    currCol=1\n",
    "    char=ord('A')+currRow-1\n",
    "    while currCol<=currRow:\n",
    "        print(chr(char),end=\"\")\n",
    "        currCol+=1\n",
    "    print()\n",
    "    currRow+=1"
   ]
  }
 ],
 "metadata": {
  "kernelspec": {
   "display_name": "Python 3",
   "language": "python",
   "name": "python3"
  },
  "language_info": {
   "codemirror_mode": {
    "name": "ipython",
    "version": 3
   },
   "file_extension": ".py",
   "mimetype": "text/x-python",
   "name": "python",
   "nbconvert_exporter": "python",
   "pygments_lexer": "ipython3",
   "version": "3.8.6"
  }
 },
 "nbformat": 4,
 "nbformat_minor": 4
}
