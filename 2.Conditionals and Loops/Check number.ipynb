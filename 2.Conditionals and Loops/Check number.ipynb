{
 "cells": [
  {
   "cell_type": "markdown",
   "metadata": {},
   "source": [
    "# Check number\n",
    "<b>Given an integer n, find if n is positive, negative or 0.</b>\n",
    "<br><br>If n is positive, print \"Positive\"\n",
    "<br>If n is negative, print \"Negative\"\n",
    "<br>And if n is equal to 0, print \"Zero\".\n",
    "<br><br><b>Input Format :</b>\n",
    "<br>Integer n\n",
    "<br><br><b>Output Format:</b>\n",
    "<br>\"Positive\" or \"Negative\" or \"Zero\" (without double quotes)\n",
    "<br><br><b>Sample Input 1 :</b>\n",
    "<br>10\n",
    "<br><b>Sample Output 1 :</b>\n",
    "<br>Positive"
   ]
  },
  {
   "cell_type": "code",
   "execution_count": null,
   "metadata": {},
   "outputs": [],
   "source": [
    "n=int(input())\n",
    "if n>0:\n",
    "    print(\"Positive\")\n",
    "elif n==0:\n",
    "    print(\"Zero\")\n",
    "else:\n",
    "    print(\"Negative\")"
   ]
  }
 ],
 "metadata": {
  "kernelspec": {
   "display_name": "Python 3",
   "language": "python",
   "name": "python3"
  },
  "language_info": {
   "codemirror_mode": {
    "name": "ipython",
    "version": 3
   },
   "file_extension": ".py",
   "mimetype": "text/x-python",
   "name": "python",
   "nbconvert_exporter": "python",
   "pygments_lexer": "ipython3",
   "version": "3.8.6"
  }
 },
 "nbformat": 4,
 "nbformat_minor": 4
}
