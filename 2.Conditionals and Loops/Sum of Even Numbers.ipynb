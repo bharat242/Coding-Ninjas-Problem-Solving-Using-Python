{
 "cells": [
  {
   "cell_type": "markdown",
   "metadata": {},
   "source": [
    "# Sum of Even Numbers\n",
    "\n",
    "<br><b>Sum of Even Numbers</b>\n",
    "<br>Given a number N, print sum of all even numbers from 1 to N.\n",
    "\n",
    "<br><b>Input Format :</b>\n",
    "<br>Integer N\n",
    "\n",
    "<br><b>Output Format :</b>\n",
    "<br>Required Sum \n",
    "\n",
    "<br><b>Sample Input 1 :</b>\n",
    "<br>6\n",
    "<br><b>Sample Output 1 :</b>\n",
    "<br>12"
   ]
  },
  {
   "cell_type": "code",
   "execution_count": null,
   "metadata": {},
   "outputs": [],
   "source": [
    "n=int(input())\n",
    "add=0\n",
    "n3=2\n",
    "if n%2==0:\n",
    "    while n3<=n:\n",
    "        add=add+n3\n",
    "        n3=n3+2\n",
    "else:\n",
    "    n=n-1\n",
    "    while n3<=n:\n",
    "        add=add+n3\n",
    "        n3=n3+2\n",
    "print(add)"
   ]
  }
 ],
 "metadata": {
  "kernelspec": {
   "display_name": "Python 3",
   "language": "python",
   "name": "python3"
  },
  "language_info": {
   "codemirror_mode": {
    "name": "ipython",
    "version": 3
   },
   "file_extension": ".py",
   "mimetype": "text/x-python",
   "name": "python",
   "nbconvert_exporter": "python",
   "pygments_lexer": "ipython3",
   "version": "3.8.6"
  }
 },
 "nbformat": 4,
 "nbformat_minor": 4
}
