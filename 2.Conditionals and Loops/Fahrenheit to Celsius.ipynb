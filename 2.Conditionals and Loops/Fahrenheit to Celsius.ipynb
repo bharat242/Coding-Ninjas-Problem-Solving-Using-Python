{
 "cells": [
  {
   "cell_type": "markdown",
   "metadata": {},
   "source": [
    "# Fahrenheit to Celsius\n",
    "<br>Given three values - Start Fahrenheit Value (S), End Fahrenheit value (E) and Step Size (W), you need to convert all Fahrenheit values from Start to End at the gap of W, into their corresponding Celsius values and print the table.\n",
    "\n",
    "<br>Input Format :\n",
    "3 integers - S, E and W respectively \n",
    "<br>Output Format :\n",
    "## Hint print(val1, \" \", val2)\n",
    "<br>Fahrenheit to Celsius conversion table. One line for every Fahrenheit and corresponding Celsius value. On Fahrenheit value and its corresponding Celsius value should be separate by tab (\"\\t\")\n",
    "\n",
    "<br>Constraints :\n",
    "<br>0 <= S <= 80\n",
    "<br>S <= E <=  900\n",
    "<br>0 <= W <= 40 \n",
    "\n",
    "<br>Sample Input 1:\n",
    "<br>0 \n",
    "<br>100 \n",
    "<br>20\n",
    "<br>Sample Output 1:\n",
    "<br>0   -17\n",
    "<br>20  -6\n",
    "<br>40  4\n",
    "<br>60  15\n",
    "<br>80  26\n",
    "<br>100 37\n",
    "<br>Sample Input 2:\n",
    "<br>20\n",
    "<br>119\n",
    "<br>13\n",
    "<br>Sample Output 2:\n",
    "<br>20  -6\n",
    "<br>33  0 \n",
    "<br>46  7\n",
    "<br>59  15\n",
    "<br>72  22\n",
    "<br>85  29\n",
    "<br>98  36\n",
    "<br>111 43\n",
    "\n",
    "<br>Explanation For Input 2:\n",
    "<br>We need need to start calculating the Celsius values for each of the Fahrenheit Value which starts from 20. So starting from 20 which is the given Fahrenheit start value, we need to compute its corresponding Celsius value which computes to -6. We print this information as <Fahrenheit Value> a tab space\"\\t\" <Celsius Value> on each line for each step of 13 we take to get the next value of Fahrenheit and extend this idea till we reach the end that is till 119 in this case. You may or may not exactly land on the end value depending on the steps you are taking."
   ]
  },
  {
   "cell_type": "code",
   "execution_count": null,
   "metadata": {},
   "outputs": [],
   "source": [
    "Fahrenheit = int(input())\n",
    "E = int(input())\n",
    "W = int(input())\n",
    "while Fahrenheit <= E:\n",
    "    Fahrenheit_to_Celsius = (((Fahrenheit - 32) * 5) / 9)\n",
    "    print(Fahrenheit, int(Fahrenheit_to_Celsius))\n",
    "    Fahrenheit = Fahrenheit + W"
   ]
  }
 ],
 "metadata": {
  "kernelspec": {
   "display_name": "Python 3",
   "language": "python",
   "name": "python3"
  },
  "language_info": {
   "codemirror_mode": {
    "name": "ipython",
    "version": 3
   },
   "file_extension": ".py",
   "mimetype": "text/x-python",
   "name": "python",
   "nbconvert_exporter": "python",
   "pygments_lexer": "ipython3",
   "version": "3.8.6"
  }
 },
 "nbformat": 4,
 "nbformat_minor": 4
}
