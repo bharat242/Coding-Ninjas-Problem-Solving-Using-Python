{
 "cells": [
  {
   "cell_type": "markdown",
   "metadata": {},
   "source": [
    "# Nth Fibonacci number<br>\n",
    "Nth term of fibonacci series F(n) is calculated using following formula -<br>\n",
    " F(n) = F(n-1) + F(n-2), <br>\n",
    " Where, F(1) = F(2) = 1<br>\n",
    "Provided N you have to find out the Nth Fibonacci Number.<br>\n",
    "<br>\n",
    "Input Format :<br>\n",
    "Integer n<br>\n",
    "Output Format :<br>\n",
    "Nth Fibonacci term i.e. F(n)<br>\n",
    "<br>\n",
    "Constraints:<br>\n",
    "1 <= n <= 25<br>\n",
    "<br>\n",
    "Sample Input 1:<br>\n",
    "4<br>\n",
    "Sample Output 2:<br>\n",
    "3 <br>\n",
    "<br>\n",
    "Sample Input 1:<br>\n",
    "6<br>\n",
    "Sample Output 2:<br>\n",
    "8"
   ]
  },
  {
   "cell_type": "code",
   "execution_count": null,
   "metadata": {},
   "outputs": [],
   "source": [
    "def Fibonacci(n):\n",
    "    if n == 1:\n",
    "        return 1\n",
    "    elif n == 2:\n",
    "        return 1\n",
    "    else:\n",
    "        return Fibonacci(n - 1) + Fibonacci(n - 2) \n",
    "        \n",
    "n=int(input())\n",
    "print(Fibonacci(n))"
   ]
  },
  {
   "cell_type": "code",
   "execution_count": null,
   "metadata": {},
   "outputs": [],
   "source": [
    "# Use This To Solve Time Exceed Error\n",
    "n = int(input())\n",
    "a = 0\n",
    "b = 1\n",
    "c = -1\n",
    "for i in range(n) :\n",
    "    c = a + b\n",
    "    a = b\n",
    "    b = c \n",
    "print(a)"
   ]
  }
 ],
 "metadata": {
  "kernelspec": {
   "display_name": "Python 3",
   "language": "python",
   "name": "python3"
  },
  "language_info": {
   "codemirror_mode": {
    "name": "ipython",
    "version": 3
   },
   "file_extension": ".py",
   "mimetype": "text/x-python",
   "name": "python",
   "nbconvert_exporter": "python",
   "pygments_lexer": "ipython3",
   "version": "3.8.6"
  }
 },
 "nbformat": 4,
 "nbformat_minor": 4
}
