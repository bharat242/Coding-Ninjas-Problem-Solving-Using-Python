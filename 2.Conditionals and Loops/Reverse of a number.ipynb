{
 "cells": [
  {
   "cell_type": "markdown",
   "metadata": {},
   "source": [
    "# Reverse of a number<br>\n",
    "Write a program to generate the reverse of a given number N. Print the corresponding reverse number.<br>\n",
    "<br>\n",
    "1. Note : If a number has trailing zeros, then its reverse will not include them. For e.g., reverse of 10400 will be 401 instead of 00401.<br>\n",
    "<br>\n",
    "Input format :<br>\n",
    "Integer N<br>\n",
    "Output format :<br>\n",
    "Corresponding reverse number<br>\n",
    "<br>\n",
    "Constraints:<br>\n",
    "0 <= N < 10^8<br>\n",
    "<br>\n",
    "Sample Input 1 :<br>\n",
    "1234<br>\n",
    "Sample Output 1 :<br>\n",
    "4321<br>\n",
    "<br>\n",
    "Sample Input 2 :<br>\n",
    "1980<br>\n",
    "Sample Output 2 :<br>\n",
    "891"
   ]
  },
  {
   "cell_type": "code",
   "execution_count": null,
   "metadata": {},
   "outputs": [],
   "source": [
    "num = int(input())\n",
    "test_num = 0\n",
    "while (num > 0):\n",
    "    remainder = num % 10\n",
    "    test_num = (test_num * 10) + remainder\n",
    "    num = num // 10\n",
    "\n",
    "print(test_num)"
   ]
  }
 ],
 "metadata": {
  "kernelspec": {
   "display_name": "Python 3",
   "language": "python",
   "name": "python3"
  },
  "language_info": {
   "codemirror_mode": {
    "name": "ipython",
    "version": 3
   },
   "file_extension": ".py",
   "mimetype": "text/x-python",
   "name": "python",
   "nbconvert_exporter": "python",
   "pygments_lexer": "ipython3",
   "version": "3.8.6"
  }
 },
 "nbformat": 4,
 "nbformat_minor": 4
}
