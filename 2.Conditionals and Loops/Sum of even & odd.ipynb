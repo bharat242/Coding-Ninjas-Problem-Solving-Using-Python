{
 "cells": [
  {
   "cell_type": "markdown",
   "metadata": {},
   "source": [
    "# Sum of even & odd <br>\n",
    "1.Write a program to input an integer N and print the sum of all its even digits and sum of all its odd digits separately.<br>\n",
    "2.Digits mean numbers, not the places! That is, if the given integer is &quot;13245&quot;, even digits are 2 &amp; 4 and odd digits are 1, 3 &amp; 5.<br>\n",
    "<br>\n",
    "Input format :<br>\n",
    "Integer N<br>\n",
    "Output format :<br>\n",
    "Sum_of_Even_Digits Sum_of_Odd_Digits<br>\n",
    "(Print first even sum and then odd sum separated by space)<br>\n",
    "<br>\n",
    "Constraints<br>\n",
    "0 <= N <= 10^8<br>\n",
    "<br>\n",
    "Sample Input 1:<br>\n",
    "1234<br>\n",
    "Sample Output 1:<br>\n",
    "6 4<br>\n",
    "<br>\n",
    "Sample Input 2:<br>\n",
    "552245<br>\n",
    "Sample Output 2:<br>\n",
    "8 15<br>\n",
    "<br>\n",
    "3.Explanation for Input 2:<br>\n",
    "For the given input, the even digits are 2, 2 and 4 and if we take the sum of these digits it will come out to be 8(2 + 2 + 4) and similarly, if we look at the odd digits, they are, 5, 5 and 5 which makes a sum of 15(5 + 5 + 5). Hence the answer would be, 8(evenSum) <single space> 15(oddSum)"
   ]
  },
  {
   "cell_type": "code",
   "execution_count": null,
   "metadata": {},
   "outputs": [],
   "source": [
    "n = int(input())\n",
    "sum_of_even = 0\n",
    "sum_of_odd = 0\n",
    "while n > 0:\n",
    "    r = (n%10)\n",
    "    if r % 2 == 0:\n",
    "        sum_of_even = sum_of_even + r\n",
    "    else:\n",
    "        sum_of_odd = sum_of_odd + r\n",
    "    n = (n // 10) \n",
    "print(sum_of_even,sum_of_odd)"
   ]
  }
 ],
 "metadata": {
  "kernelspec": {
   "display_name": "Python 3",
   "language": "python",
   "name": "python3"
  },
  "language_info": {
   "codemirror_mode": {
    "name": "ipython",
    "version": 3
   },
   "file_extension": ".py",
   "mimetype": "text/x-python",
   "name": "python",
   "nbconvert_exporter": "python",
   "pygments_lexer": "ipython3",
   "version": "3.8.6"
  }
 },
 "nbformat": 4,
 "nbformat_minor": 4
}
