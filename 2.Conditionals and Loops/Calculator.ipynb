{
 "cells": [
  {
   "cell_type": "markdown",
   "metadata": {},
   "source": [
    "# Calculator<br>\n",
    "<br>\n",
    "Write a program that performs the tasks of a simple calculator. The program should first take an integer as input and then based on that integer perform the task as given below.<br>\n",
    "<br>\n",
    "1. If the input is 1, 2 integers are taken from the user and their sum is printed.<br>\n",
    "2. If the input is 2, 2 integers are taken from the user and their difference(1st number - 2nd number) is printed.<br>\n",
    "3. If the input is 3, 2 integers are taken from the user and their product is printed.<br>\n",
    "4. If the input is 4, 2 integers are taken from the user and the quotient obtained (on dividing 1st number by 2nd number) is printed.<br>\n",
    "5. If the input is 5, 2 integers are taken from the user and their remainder(1st number mod 2nd number) is printed.<br>\n",
    "6. If the input is 6, the program exits.<br>\n",
    "7. For any other input, print &quot;Invalid Operation&quot;.<br>\n",
    "Note: Each answer in next line.<br>\n",
    "<br>\n",
    "Input format:<br>\n",
    "Take integers as input, in accordance to the description of the question. <br>\n",
    "<br>\n",
    "Constraints:<br>\n",
    "Time Limit: 1 second<br>\n",
    "<br>\n",
    "Output format:<br>\n",
    "The output lines must be as prescribed in the description of the question.<br>\n",
    "<br>\n",
    "Sample Input:<br>\n",
    "3<br>\n",
    "1<br>\n",
    "2<br>\n",
    "4<br>\n",
    "4<br>\n",
    "2<br>\n",
    "1<br>\n",
    "3<br>\n",
    "2<br>\n",
    "7<br>\n",
    "6<br>\n",
    "Sample Output:<br>\n",
    "2<br>\n",
    "2<br>\n",
    "5<br>\n",
    "Invalid Operation"
   ]
  },
  {
   "cell_type": "code",
   "execution_count": null,
   "metadata": {},
   "outputs": [],
   "source": [
    "while True:\n",
    "    n = int(input())\n",
    "    if n == 1:\n",
    "        n1 = int(input())\n",
    "        n2 = int(input())\n",
    "        print(int(n1+n2))\n",
    "    elif n == 2:\n",
    "        n1 = int(input())\n",
    "        n2 = int(input())\n",
    "        print(int(n1-n2))\n",
    "    elif n == 3:\n",
    "        n1 = int(input())\n",
    "        n2 = int(input())\n",
    "        print(int(n1*n2))\n",
    "    elif n == 4:\n",
    "        n1 = int(input())\n",
    "        n2 = int(input())\n",
    "        print(int(n1/n2))\n",
    "    elif n == 5:\n",
    "        n1 = int(input())\n",
    "        n2 = int(input())\n",
    "        print(int(n1//n2))\n",
    "    elif n == 6:\n",
    "        exit()\n",
    "    else:\n",
    "        print(\"Invalid Operation\")"
   ]
  }
 ],
 "metadata": {
  "kernelspec": {
   "display_name": "Python 3",
   "language": "python",
   "name": "python3"
  },
  "language_info": {
   "codemirror_mode": {
    "name": "ipython",
    "version": 3
   },
   "file_extension": ".py",
   "mimetype": "text/x-python",
   "name": "python",
   "nbconvert_exporter": "python",
   "pygments_lexer": "ipython3",
   "version": "3.8.6"
  }
 },
 "nbformat": 4,
 "nbformat_minor": 4
}
