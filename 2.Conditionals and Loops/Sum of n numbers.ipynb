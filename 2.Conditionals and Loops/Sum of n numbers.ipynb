{
 "cells": [
  {
   "cell_type": "markdown",
   "metadata": {},
   "source": [
    "# Sum of n numbers\n",
    "<br><b>Given an integer n, find and print the sum of numbers from 1 to n.</b>\n",
    "<br><br><b>Note : Use while loop only.</b>\n",
    "<br><br><b>Input Format :</b>\n",
    "<br>Integer n\n",
    "    <br><br><b>Output Format :</b>\n",
    "<br>Sum\n",
    "    <br><br><b>Sample Input :</b>\n",
    "<br>10\n",
    "<br><b>Sample Output :</b>\n",
    "<br>55"
   ]
  },
  {
   "cell_type": "code",
   "execution_count": null,
   "metadata": {},
   "outputs": [],
   "source": [
    "n=int(input())\n",
    "add=0\n",
    "n3=1\n",
    "while n3<=n:\n",
    "    add=add+n3\n",
    "    n3=n3+1\n",
    "print(add)"
   ]
  }
 ],
 "metadata": {
  "kernelspec": {
   "display_name": "Python 3",
   "language": "python",
   "name": "python3"
  },
  "language_info": {
   "codemirror_mode": {
    "name": "ipython",
    "version": 3
   },
   "file_extension": ".py",
   "mimetype": "text/x-python",
   "name": "python",
   "nbconvert_exporter": "python",
   "pygments_lexer": "ipython3",
   "version": "3.8.6"
  }
 },
 "nbformat": 4,
 "nbformat_minor": 4
}
