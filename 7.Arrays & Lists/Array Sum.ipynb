{
 "cells": [
  {
   "cell_type": "markdown",
   "metadata": {},
   "source": [
    "# Array Sum\n",
    "Given an array of length N, you need to find and print the sum of all elements of the array.<br>\n",
    "<br>\n",
    "Input Format :<br>\n",
    "Line 1 : An Integer N i.e. size of array<br>\n",
    "Line 2 : N integers which are elements of the array, separated by spaces<br>\n",
    "<br>\n",
    "Output Format :<br>\n",
    "Sum<br>\n",
    "<br>\n",
    "Constraints :<br>\n",
    "1 <= N <= 10^6<br>\n",
    "<br>\n",
    "Sample Input :<br>\n",
    "3<br>\n",
    "9 8 9<br>\n",
    "Sample Output :<br>\n",
    "26"
   ]
  },
  {
   "cell_type": "code",
   "execution_count": null,
   "metadata": {},
   "outputs": [],
   "source": [
    "p=input()\n",
    "arr = input().split()\n",
    "sum = 0\n",
    "for x in range(len(arr)):\n",
    "    p=int(arr[x])\n",
    "    sum=sum+p\n",
    "print(sum)"
   ]
  }
 ],
 "metadata": {
  "kernelspec": {
   "display_name": "Python 3",
   "language": "python",
   "name": "python3"
  },
  "language_info": {
   "codemirror_mode": {
    "name": "ipython",
    "version": 3
   },
   "file_extension": ".py",
   "mimetype": "text/x-python",
   "name": "python",
   "nbconvert_exporter": "python",
   "pygments_lexer": "ipython3",
   "version": "3.8.6"
  }
 },
 "nbformat": 4,
 "nbformat_minor": 4
}
