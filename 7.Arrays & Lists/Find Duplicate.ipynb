{
 "cells": [
  {
   "cell_type": "markdown",
   "metadata": {},
   "source": [
    "# Find Duplicate\n",
    "You have been given an integer array/list(ARR) of size N which contains numbers from 0 to (N - 2). Each number is present at least once. That is, if N = 5, the array/list constitutes values ranging from 0 to 3 and among these, there is a single integer value that is present twice. You need to find and return that duplicate number present in the array.<br>\n",
    "<br>\n",
    "Note :<br>\n",
    "Duplicate number is always present in the given array/list.<br>\n",
    "<br>\n",
    "Input format :<br>\n",
    "The first line contains an Integer 't' which denotes the number of test cases or queries to be run. Then the test cases follow.<br>\n",
    "<br>\n",
    "First line of each test case or query contains an integer 'N' representing the size of the array/list.<br>\n",
    "<br>\n",
    "Second line contains 'N' single space separated integers representing the elements in the array/list.<br>\n",
    "Output Format :<br>\n",
    "For each test case, print the duplicate element in the array/list.<br>\n",
    "<br>\n",
    "Output for every test case will be printed in a separate line.<br>\n",
    "<br>\n",
    "Constraints :<br>\n",
    "1 <= t <= 10^2<br>\n",
    "0 <= N <= 10^3<br>\n",
    "Time Limit: 1 sec<br>\n",
    "<br>\n",
    "Sample Input 1:<br>\n",
    "1<br>\n",
    "9<br>\n",
    "0 7 2 5 4 7 1 3 6<br>\n",
    "Sample Output 1:<br>\n",
    "7<br>\n",
    "Sample Input 2:<br>\n",
    "2<br>\n",
    "5<br>\n",
    "0 2 1 3 1<br>\n",
    "7<br>\n",
    "0 3 1 5 4 3 2<br>\n",
    "Sample Output 2:<br>\n",
    "1<br>\n",
    "3"
   ]
  },
  {
   "cell_type": "code",
   "execution_count": null,
   "metadata": {},
   "outputs": [],
   "source": [
    "N = int(input())\n",
    "k=0\n",
    "while k<N:\n",
    "    n = int(input())\n",
    "    li = [int(x) for x in input().split()]\n",
    "    new_li = li.copy()\n",
    "    for i in range(n):\n",
    "        new_li[i] = -1\n",
    "        if li[i] in new_li:\n",
    "            print(li[i])\n",
    "            break\n",
    "    k+=1"
   ]
  },
  {
   "cell_type": "code",
   "execution_count": null,
   "metadata": {},
   "outputs": [],
   "source": [
    "#Another Solution\n",
    "def duplicate (list1):\n",
    "    repeated = []\n",
    "    list_len=len(list1)\n",
    "    for h in range(list_len):\n",
    "        for p in range(h+1,list_len):\n",
    "            if list1[p]==list1[h] and list1[p] not in repeated:\n",
    "                repeated.append(list1[p])\n",
    "    print(repeated[0])\n",
    "\n",
    "n=int(input())\n",
    "for i in range(0,n):\n",
    "    faltu=input()\n",
    "    li = [int(x) for x in input().split()]\n",
    "    duplicate(li)"
   ]
  }
 ],
 "metadata": {
  "kernelspec": {
   "display_name": "Python 3",
   "language": "python",
   "name": "python3"
  },
  "language_info": {
   "codemirror_mode": {
    "name": "ipython",
    "version": 3
   },
   "file_extension": ".py",
   "mimetype": "text/x-python",
   "name": "python",
   "nbconvert_exporter": "python",
   "pygments_lexer": "ipython3",
   "version": "3.8.6"
  }
 },
 "nbformat": 4,
 "nbformat_minor": 4
}
