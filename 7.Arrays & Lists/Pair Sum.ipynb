{
 "cells": [
  {
   "cell_type": "markdown",
   "metadata": {},
   "source": [
    "# Pair Sum\n",
    "You have been given an integer array/list(ARR) and a number X. Find and return the total number of pairs in the array/list which sum to X.<br>\n",
    "<br>\n",
    "Note:<br>\n",
    "Given array/list can contain duplicate elements. <br>\n",
    "<br>\n",
    "Input format :<br>\n",
    "The first line contains an Integer 't' which denotes the number of test cases or queries to be run. Then the test cases follow.<br>\n",
    "<br>\n",
    "First line of each test case or query contains an integer 'N' representing the size of the first array/list.<br>\n",
    "<br>\n",
    "Second line contains 'N' single space separated integers representing the elements in the array/list.<br>\n",
    "<br>\n",
    "Third line contains an integer 'X'.<br>\n",
    "<br>\n",
    "Output format :<br>\n",
    "For each test case, print the total number of pairs present in the array/list.<br>\n",
    "<br>\n",
    "Output for every test case will be printed in a separate line.<br>\n",
    "<br>\n",
    "Constraints :<br>\n",
    "1 <= t <= 10^2<br>\n",
    "0 <= N <= 10^3<br>\n",
    "0 <= X <= 10^9<br>\n",
    "Time Limit: 1 sec<br>\n",
    "<br>\n",
    "Sample Input 1:<br>\n",
    "1<br>\n",
    "9<br>\n",
    "1 3 6 2 5 4 3 2 4<br>\n",
    "7<br>\n",
    "Sample Output 1:<br>\n",
    "7<br>\n",
    "Sample Input 2:<br>\n",
    "2<br>\n",
    "9<br>\n",
    "1 3 6 2 5 4 3 2 4<br>\n",
    "12<br>\n",
    "6<br>\n",
    "2 8 10 5 -2 5<br>\n",
    "10<br>\n",
    "Sample Output 2:<br>\n",
    "0<br>\n",
    "2<br>\n",
    "Explanation for Input 2:<br>\n",
    "Since there doesn't exist any pair with sum equal to 12 for the first query, we print 0.<br>\n",
    "For the second query, we have 2 pairs in total that sum up to 10. They are, (2, 8) and (5, 5)."
   ]
  },
  {
   "cell_type": "code",
   "execution_count": null,
   "metadata": {},
   "outputs": [],
   "source": [
    "def duplicate (list1,sum):\n",
    "    sum_time=0\n",
    "    size=len(list1)\n",
    "    for i in range(0,size):\n",
    "        for j in range(i+1,size):\n",
    "            if list1[i] + list1[j]==sum:\n",
    "                sum_time+=1\n",
    "            else:\n",
    "                continue\n",
    "    print(sum_time)\n",
    "\n",
    "n=int(input()) #First Input\n",
    "for i in range(n):\n",
    "    faltu1=int(input()) #Secound input #no of ele in list\n",
    "    if faltu1!=0:\n",
    "        list = [int(x) for x in input().split()]\n",
    "    X=int(input()) #3rd Input\n",
    "    if faltu1!=0 :\n",
    "        duplicate(list,X)\n",
    "    else:\n",
    "        print(0)"
   ]
  }
 ],
 "metadata": {
  "kernelspec": {
   "display_name": "Python 3",
   "language": "python",
   "name": "python3"
  },
  "language_info": {
   "codemirror_mode": {
    "name": "ipython",
    "version": 3
   },
   "file_extension": ".py",
   "mimetype": "text/x-python",
   "name": "python",
   "nbconvert_exporter": "python",
   "pygments_lexer": "ipython3",
   "version": "3.8.6"
  }
 },
 "nbformat": 4,
 "nbformat_minor": 4
}
