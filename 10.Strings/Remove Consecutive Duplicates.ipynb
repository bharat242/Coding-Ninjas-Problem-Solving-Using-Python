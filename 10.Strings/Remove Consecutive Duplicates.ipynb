{
 "cells": [
  {
   "cell_type": "markdown",
   "metadata": {},
   "source": [
    "# Remove Consecutive Duplicates\n",
    "Given a string, S, remove all the consecutive duplicates that are present in the given string. That means, if 'aaa' is present in the string then it should become 'a' in the output string.<br>\n",
    "<br>\n",
    "Input format :<br>\n",
    "String S<br>\n",
    "<br>\n",
    "Output format :<br>\n",
    "Modified string<br>\n",
    "<br>\n",
    "Constraints :<br>\n",
    "0 <= |S| <= 10^7<br>\n",
    "where |S| represents the length of string, S.<br>\n",
    "<br>\n",
    "Sample Input 1:<br>\n",
    "aabccbaa<br>\n",
    "Sample Output 1:<br>\n",
    "abcba<br>\n",
    "Sample Input 2:<br>\n",
    "xxyyzxx<br>\n",
    "Sample Output 2:<br>\n",
    "xyzx"
   ]
  },
  {
   "cell_type": "code",
   "execution_count": null,
   "metadata": {},
   "outputs": [],
   "source": [
    "s=input()\n",
    "s=s+\" \"\n",
    "for i in range(len(s)-1):\n",
    "    if s[i]!=s[i+1]:\n",
    "        print(s[i],end=\"\")"
   ]
  }
 ],
 "metadata": {
  "kernelspec": {
   "display_name": "Python 3",
   "language": "python",
   "name": "python3"
  },
  "language_info": {
   "codemirror_mode": {
    "name": "ipython",
    "version": 3
   },
   "file_extension": ".py",
   "mimetype": "text/x-python",
   "name": "python",
   "nbconvert_exporter": "python",
   "pygments_lexer": "ipython3",
   "version": "3.8.6"
  }
 },
 "nbformat": 4,
 "nbformat_minor": 4
}
