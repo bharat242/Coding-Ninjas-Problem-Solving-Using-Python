{
 "cells": [
  {
   "cell_type": "markdown",
   "metadata": {},
   "source": [
    "# Reverse Each Word\n",
    "Given a string S, reverse each word of a string individually. For eg. if a string is \"abc def\", reversed string should be \"cba fed\".<br>\n",
    "<br>\n",
    "Input Format :<br>\n",
    "String S<br>\n",
    "<br>\n",
    "Output Format :<br>\n",
    "Modified string<br>\n",
    "<br>\n",
    "Constraints :<br>\n",
    "0 <= |S| <= 10^7<br>\n",
    "where |S| represents the length of string, S.<br>\n",
    "<br>\n",
    "Sample Input 1:<br>\n",
    "Welcome to Coding Ninjas<br>\n",
    "Sample Output 1:<br>\n",
    "emocleW ot gnidoC sajniN<br>\n",
    "Sample Input 2:<br>\n",
    "Give proper names to variables and functions<br>\n",
    "Sample Output 2:<br>\n",
    "eviG reporp seman ot selbairav dna snoitcnuf"
   ]
  },
  {
   "cell_type": "code",
   "execution_count": null,
   "metadata": {},
   "outputs": [],
   "source": [
    "s=input()\n",
    "new=s.split()\n",
    "for i in range(len(new)):\n",
    "    sad=new[i][::-1]\n",
    "    print(sad,end=\" \")"
   ]
  }
 ],
 "metadata": {
  "kernelspec": {
   "display_name": "Python 3",
   "language": "python",
   "name": "python3"
  },
  "language_info": {
   "codemirror_mode": {
    "name": "ipython",
    "version": 3
   },
   "file_extension": ".py",
   "mimetype": "text/x-python",
   "name": "python",
   "nbconvert_exporter": "python",
   "pygments_lexer": "ipython3",
   "version": "3.8.6"
  }
 },
 "nbformat": 4,
 "nbformat_minor": 4
}
