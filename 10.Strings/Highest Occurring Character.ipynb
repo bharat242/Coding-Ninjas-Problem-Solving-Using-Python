{
 "cells": [
  {
   "cell_type": "markdown",
   "metadata": {},
   "source": [
    "# Highest Occurring Character\n",
    "Given a string, S, find and return the highest occurring character present in the given string.<br>\n",
    "If there are 2 characters in the input string with same frequency, return the character which comes first.<br>\n",
    "<br>\n",
    "Note : Assume all the characters in the given string are lowercase.<br>\n",
    "<br>\n",
    "Input format :<br>\n",
    "String S<br>\n",
    "<br>\n",
    "Output format :<br>\n",
    "Highest occurring character<br>\n",
    "<br>\n",
    "Constraints :<br>\n",
    "0 <= |S| <= 10^7<br>\n",
    "where |S| represents the length of string, S.<br>\n",
    "<br>\n",
    "Sample Input 1:<br>\n",
    "abdefgbabfba<br>\n",
    "Sample Output 1:<br>\n",
    "b<br>\n",
    "Sample Input 2:<br>\n",
    "xy<br>\n",
    "Sample Output 2:<br>\n",
    "x"
   ]
  },
  {
   "cell_type": "code",
   "execution_count": null,
   "metadata": {},
   "outputs": [],
   "source": [
    "myList=input()\n",
    "newlist_d=[]\n",
    "maxalpha=\"\"\n",
    "maxno=0\n",
    "\n",
    "#Give list of all distinct words\n",
    "for i in (myList):\n",
    "    if i not in newlist_d:\n",
    "        newlist_d.append(i)\n",
    "#now let count\n",
    "for ele in newlist_d:\n",
    "    count = 0\n",
    "    for l in range(len(myList)):\n",
    "        if ele==myList[l]:\n",
    "            count+=1\n",
    "        if count>maxno:\n",
    "            maxno=count\n",
    "            maxalpha=ele\n",
    "print(maxalpha)"
   ]
  }
 ],
 "metadata": {
  "kernelspec": {
   "display_name": "Python 3",
   "language": "python",
   "name": "python3"
  },
  "language_info": {
   "codemirror_mode": {
    "name": "ipython",
    "version": 3
   },
   "file_extension": ".py",
   "mimetype": "text/x-python",
   "name": "python",
   "nbconvert_exporter": "python",
   "pygments_lexer": "ipython3",
   "version": "3.8.6"
  }
 },
 "nbformat": 4,
 "nbformat_minor": 4
}
