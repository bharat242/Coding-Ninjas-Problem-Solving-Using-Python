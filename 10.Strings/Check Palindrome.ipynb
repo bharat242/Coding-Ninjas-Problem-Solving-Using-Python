{
 "cells": [
  {
   "cell_type": "markdown",
   "metadata": {},
   "source": [
    "# Check Palindrome\n",
    "Given a String s, check it its palindrome. Return true if string is palindrome, else return false.<br>\n",
    "Palindrome strings are those, where string s and its reverse is exactly same.<br>\n",
    "<br>\n",
    "Input Format :<br>\n",
    " String S<br>\n",
    " <br>\n",
    "Output Format :<br>\n",
    "\"true\" if S is palindrome, else \"false\"<br>\n",
    "<br>\n",
    "Constraints :<br>\n",
    "0 <= |S| <= 10^7<br>\n",
    "where |S| represents the length of string, S.<br>\n",
    "<br>\n",
    "Sample Input 1 :<br>\n",
    "abcdcba<br>\n",
    "Sample Output 1 :<br>\n",
    "true <br>\n",
    "Sample Input 1 :<br>\n",
    "abcd<br>\n",
    "Sample Output 1 :<br>\n",
    "false"
   ]
  },
  {
   "cell_type": "code",
   "execution_count": null,
   "metadata": {},
   "outputs": [],
   "source": [
    "str=input()\n",
    "if str==str[::-1]:\n",
    "    print(\"true\")\n",
    "else:\n",
    "    print(\"false\")"
   ]
  }
 ],
 "metadata": {
  "kernelspec": {
   "display_name": "Python 3",
   "language": "python",
   "name": "python3"
  },
  "language_info": {
   "codemirror_mode": {
    "name": "ipython",
    "version": 3
   },
   "file_extension": ".py",
   "mimetype": "text/x-python",
   "name": "python",
   "nbconvert_exporter": "python",
   "pygments_lexer": "ipython3",
   "version": "3.8.6"
  }
 },
 "nbformat": 4,
 "nbformat_minor": 4
}
