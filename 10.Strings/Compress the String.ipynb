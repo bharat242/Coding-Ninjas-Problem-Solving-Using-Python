{
 "cells": [
  {
   "cell_type": "markdown",
   "metadata": {},
   "source": [
    "# Compress the String\n",
    "Write a program to do basic string compression. For a character which is consecutively repeated more than once, replace consecutive duplicate occurrences with the count of repetitions.<br>\n",
    "<br>\n",
    "Exmple:<br>\n",
    "If a String has 'x' repeated 5 times, replace this \"xxxxx\" with \"x5\".<br>\n",
    "<br>\n",
    "The string is compressed only when the repeated character count is more than 1.<br>\n",
    "<br>\n",
    "Note :<br>\n",
    "Consecutive count of every character in the input string is less than equal to 9.<br>\n",
    "<br>\n",
    "<br>\n",
    "Input Format :<br>\n",
    "The first and the only line of input contains a string(no spaces in between).<br>\n",
    "<br>\n",
    "Output Format :<br>\n",
    "The only line of output print the compressed string.<br>\n",
    "<br>\n",
    "Note:<br>\n",
    "Return the compressed string and hence, no need to print.<br>\n",
    "<br>\n",
    "Constraints :<br>\n",
    "0 <= |S| <= 10^7<br>\n",
    "Where |S| represents the length of string, S.<br>\n",
    "<br>\n",
    "Time Limit: 1sec<br>\n",
    "Sample Input 1 :<br>\n",
    "aaabbccdsa<br>\n",
    "Sample Output 1 :<br>\n",
    "a3b2c2dsa<br>\n",
    "Sample Input 2 :<br>\n",
    "aaabbcddeeeee<br>\n",
    "Sample Output 2 :<br>\n",
    "a3b2cd2e5"
   ]
  },
  {
   "cell_type": "code",
   "execution_count": null,
   "metadata": {},
   "outputs": [],
   "source": [
    "def ab(a):\n",
    "    i=0\n",
    "    x=''\n",
    "    while(i<len(a)):\n",
    "        j=i+1\n",
    "        c=1\n",
    "        while j<len(a) and (a[i]==a[j]):\n",
    "            j+=1\n",
    "            c+=1\n",
    "        if c==1:\n",
    "            x+=a[i]\n",
    "        else:\n",
    "            x+=a[i]+str(c)\n",
    "        i=j\n",
    "    return x\n",
    "a=input()\n",
    "print(ab(a))"
   ]
  }
 ],
 "metadata": {
  "kernelspec": {
   "display_name": "Python 3",
   "language": "python",
   "name": "python3"
  },
  "language_info": {
   "codemirror_mode": {
    "name": "ipython",
    "version": 3
   },
   "file_extension": ".py",
   "mimetype": "text/x-python",
   "name": "python",
   "nbconvert_exporter": "python",
   "pygments_lexer": "ipython3",
   "version": "3.8.6"
  }
 },
 "nbformat": 4,
 "nbformat_minor": 4
}
