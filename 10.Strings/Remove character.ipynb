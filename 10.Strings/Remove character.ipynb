{
 "cells": [
  {
   "cell_type": "markdown",
   "metadata": {},
   "source": [
    "# Remove character\n",
    "Given a string and a character x. Write a function to remove all occurrences of x character from the given string.<br>\n",
    "Leave the string as it is, if the given character is not present in the string.<br>\n",
    "<br>\n",
    "<br>\n",
    "Input Format :<br>\n",
    "Line 1 : String S<br>\n",
    "Line 2 : Character c<br>\n",
    "<br>\n",
    "Output Format :<br>\n",
    "Modified string<br>\n",
    "<br>\n",
    "Constraints :<br>\n",
    "0 <= |S| <= 10^7<br>\n",
    "where |S| represents the length of string, S.<br>\n",
    "<br>\n",
    "Sample Input 1:<br>\n",
    "welcome to coding ninjas<br>\n",
    "o<br>\n",
    "Sample Output 1:<br>\n",
    "welcme t cding ninjas<br>\n",
    "Sample Input 2:<br>\n",
    "Think of edge cases before submitting solutions<br>\n",
    "x<br>\n",
    "Sample Output 2:<br>\n",
    "Think of edge cases before submitting solutions"
   ]
  },
  {
   "cell_type": "code",
   "execution_count": null,
   "metadata": {},
   "outputs": [],
   "source": [
    "s=input()\n",
    "r=input()\n",
    "for i in range(len(s)):\n",
    "    if s[i]!=r:\n",
    "        print(s[i],end=\"\")"
   ]
  }
 ],
 "metadata": {
  "kernelspec": {
   "display_name": "Python 3",
   "language": "python",
   "name": "python3"
  },
  "language_info": {
   "codemirror_mode": {
    "name": "ipython",
    "version": 3
   },
   "file_extension": ".py",
   "mimetype": "text/x-python",
   "name": "python",
   "nbconvert_exporter": "python",
   "pygments_lexer": "ipython3",
   "version": "3.8.6"
  }
 },
 "nbformat": 4,
 "nbformat_minor": 4
}
