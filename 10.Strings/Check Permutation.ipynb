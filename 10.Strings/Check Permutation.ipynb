{
 "cells": [
  {
   "cell_type": "markdown",
   "metadata": {},
   "source": [
    "# Check Permutation\n",
    "Given two strings, S and T, check if they are permutations of each other. Return true or false.<br>\n",
    "Permutation means - length of both the strings should same and should contain same set of characters. Order of characters doesn't matter.<br>\n",
    "Note : Input strings contain only lowercase english alphabets.<br>\n",
    "<br>\n",
    "<br>\n",
    "Input format :<br>\n",
    "Line 1 : String 1<br>\n",
    "Line 2 : String 2<br>\n",
    "<br>\n",
    "Output format :<br>\n",
    "'true' or 'false'<br>\n",
    "<br>\n",
    "Constraints :<br>\n",
    "0 <= |S| <= 10^7<br>\n",
    "0 <= |T| <= 10^7<br>\n",
    "where |S| represents the length of string, S.<br>\n",
    "<br>\n",
    "Sample Input 1 :<br>\n",
    "abcde<br>\n",
    "baedc<br>\n",
    "Sample Output 1 :<br>\n",
    "true<br>\n",
    "Sample Input 2 :<br>\n",
    "abc<br>\n",
    "cbd<br>\n",
    "Sample Output 2 :<br>\n",
    "false"
   ]
  },
  {
   "cell_type": "code",
   "execution_count": null,
   "metadata": {},
   "outputs": [],
   "source": [
    "s=input()\n",
    "d=input()\n",
    "if sorted(d)==sorted(s):\n",
    "    print(\"true\")\n",
    "else:\n",
    "    print(\"false\")"
   ]
  }
 ],
 "metadata": {
  "kernelspec": {
   "display_name": "Python 3",
   "language": "python",
   "name": "python3"
  },
  "language_info": {
   "codemirror_mode": {
    "name": "ipython",
    "version": 3
   },
   "file_extension": ".py",
   "mimetype": "text/x-python",
   "name": "python",
   "nbconvert_exporter": "python",
   "pygments_lexer": "ipython3",
   "version": "3.8.6"
  }
 },
 "nbformat": 4,
 "nbformat_minor": 4
}
