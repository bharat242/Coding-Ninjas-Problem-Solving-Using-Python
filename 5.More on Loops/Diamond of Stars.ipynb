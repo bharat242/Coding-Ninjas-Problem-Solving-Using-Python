{
 "cells": [
  {
   "cell_type": "markdown",
   "metadata": {},
   "source": [
    "# Diamond of Stars\n",
    "Print the following pattern for the given number of rows.\n",
    "<br>Note: N is always odd.\n",
    "<br><b>Pattern for N = 5</b><br>\n",
    "![Diamond of Star](https://imgpress.xyz/images/2021/10/11/MPB9rTl---Imgur.png)<br>\n",
    "<b>The dots represent spaces.</b><br>\n",
    "Input format :<br>\n",
    "N (Total no. of rows and can only be odd)<br>\n",
    "<br>\n",
    "Output format :<br>\n",
    "Pattern in N lines<br>\n",
    "<br>\n",
    "Constraints :<br>\n",
    "1 <= N <= 49<br>\n",
    "<br>"
   ]
  },
  {
   "cell_type": "code",
   "execution_count": null,
   "metadata": {},
   "outputs": [],
   "source": [
    "n=int(input())\n",
    "for i in range(1,n+1):\n",
    "    for j in range(1,i):\n",
    "        print(\" \",end=\"\")\n",
    "    for l in range(i,n+1):\n",
    "        print(l,end=\"\")\n",
    "    print()\n",
    "for a in range(1,n):\n",
    "    for s in range(n-1-a,0,-1):\n",
    "        print(\" \",end=\"\")\n",
    "    for k in range(n-a,n+1):\n",
    "        print(k,end=\"\")\n",
    "    print()"
   ]
  }
 ],
 "metadata": {
  "kernelspec": {
   "display_name": "Python 3",
   "language": "python",
   "name": "python3"
  },
  "language_info": {
   "codemirror_mode": {
    "name": "ipython",
    "version": 3
   },
   "file_extension": ".py",
   "mimetype": "text/x-python",
   "name": "python",
   "nbconvert_exporter": "python",
   "pygments_lexer": "ipython3",
   "version": "3.8.6"
  }
 },
 "nbformat": 4,
 "nbformat_minor": 4
}
