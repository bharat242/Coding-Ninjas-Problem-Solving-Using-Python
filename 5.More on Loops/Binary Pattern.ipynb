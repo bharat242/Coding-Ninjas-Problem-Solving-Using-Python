{
 "cells": [
  {
   "cell_type": "markdown",
   "metadata": {},
   "source": [
    "# Binary Pattern\n",
    "Print the following pattern for the given number of rows.<br>\n",
    "<br>\n",
    "Pattern for N = 4<br>\n",
    "1111<br>\n",
    "000<br>\n",
    "11<br>\n",
    "0<br>\n",
    "Input format : N (Total no. of rows)<br>\n",
    "<br>\n",
    "Output format : Pattern in N lines<br>\n",
    "<br>\n",
    "Sample Input :<br>\n",
    "5<br>\n",
    "Sample Output :<br>\n",
    "11111<br>\n",
    "0000<br>\n",
    "111<br>\n",
    "00<br>\n",
    "1"
   ]
  },
  {
   "cell_type": "code",
   "execution_count": null,
   "metadata": {},
   "outputs": [],
   "source": [
    "n=int(input())\n",
    "for i in range(1,n+1):\n",
    "    for l in range(n+2-2*i,0,-1):\n",
    "        print(1,end=\"\")\n",
    "    print()\n",
    "    for j in range (n+1-2*i,0,-1):\n",
    "        print(0,end=\"\")\n",
    "    print()"
   ]
  }
 ],
 "metadata": {
  "kernelspec": {
   "display_name": "Python 3",
   "language": "python",
   "name": "python3"
  },
  "language_info": {
   "codemirror_mode": {
    "name": "ipython",
    "version": 3
   },
   "file_extension": ".py",
   "mimetype": "text/x-python",
   "name": "python",
   "nbconvert_exporter": "python",
   "pygments_lexer": "ipython3",
   "version": "3.8.6"
  }
 },
 "nbformat": 4,
 "nbformat_minor": 4
}
