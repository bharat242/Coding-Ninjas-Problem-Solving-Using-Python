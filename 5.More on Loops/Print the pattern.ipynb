{
 "cells": [
  {
   "cell_type": "markdown",
   "metadata": {},
   "source": [
    "# Print the pattern\n",
    "Print the following pattern for the given number of rows.<br>\n",
    "<b>Pattern for N = 5</b><br>\n",
    "![PrintThePattern](https://imgpress.xyz/images/2021/10/11/bl7P8Wq---Imgur.png)<br>\n",
    "Input format : N (Total no. of rows)<br>\n",
    "<br>\n",
    "Output format : Pattern in N lines<br>\n",
    "<br>\n",
    "Sample Input :<br>\n",
    "4<br>\n",
    "Sample Output :<br>\n",
    "1 2 3 4<br>\n",
    "9 10 11 12<br>\n",
    "13 14 15 16<br>\n",
    "5 6 7 8"
   ]
  },
  {
   "cell_type": "code",
   "execution_count": null,
   "metadata": {},
   "outputs": [],
   "source": [
    "n=int(input())\n",
    "startvalue=1\n",
    "for i in range(1,n+1):\n",
    "    for j in range(startvalue,startvalue+n):\n",
    "        print(j,end=\" \")\n",
    "    print()\n",
    "    if i==(n+1)//2:\n",
    "        if n%2!=0:\n",
    "            startvalue=n*(n-2)+1\n",
    "        else:\n",
    "            startvalue=n*(n-1)+1\n",
    "    elif i>(n+1)//2:\n",
    "        startvalue=startvalue-2*n\n",
    "    else:\n",
    "        startvalue=startvalue+2*n"
   ]
  }
 ],
 "metadata": {
  "kernelspec": {
   "display_name": "Python 3",
   "language": "python",
   "name": "python3"
  },
  "language_info": {
   "codemirror_mode": {
    "name": "ipython",
    "version": 3
   },
   "file_extension": ".py",
   "mimetype": "text/x-python",
   "name": "python",
   "nbconvert_exporter": "python",
   "pygments_lexer": "ipython3",
   "version": "3.8.6"
  }
 },
 "nbformat": 4,
 "nbformat_minor": 4
}
