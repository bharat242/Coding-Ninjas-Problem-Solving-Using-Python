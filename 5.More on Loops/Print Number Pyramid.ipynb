{
 "cells": [
  {
   "cell_type": "markdown",
   "metadata": {},
   "source": [
    "# Print Number Pyramid\n",
    "Print the following pattern for a given n.<br>\n",
    "<br>\n",
    "**Note - Dot Represent Spaces**<br>\n",
    "For eg. N = 6<br>\n",
    "![](https://imgpress.xyz/images/2021/10/11/p03f2fS---Imgur.png)\n",
    "<br>\n",
    "Sample Input 1 :<br>\n",
    "4<br>\n",
    "Sample Output 1 :<br>\n",
    "![](https://imgpress.xyz/images/2021/10/11/VSpXQ0L---Imgur.png)"
   ]
  },
  {
   "cell_type": "code",
   "execution_count": null,
   "metadata": {},
   "outputs": [],
   "source": [
    "n=int(input())\n",
    "for i in range(1,n+1):\n",
    "    for j in range(1,i):\n",
    "        print(\" \",end=\"\")\n",
    "    for l in range(i,n+1):\n",
    "        print(l,end=\"\")\n",
    "    print()\n",
    "for a in range(1,n):\n",
    "    for s in range(n-1-a,0,-1):\n",
    "        print(\" \",end=\"\")\n",
    "    for k in range(n-a,n+1):\n",
    "        print(k,end=\"\")\n",
    "    print()"
   ]
  }
 ],
 "metadata": {
  "kernelspec": {
   "display_name": "Python 3",
   "language": "python",
   "name": "python3"
  },
  "language_info": {
   "codemirror_mode": {
    "name": "ipython",
    "version": 3
   },
   "file_extension": ".py",
   "mimetype": "text/x-python",
   "name": "python",
   "nbconvert_exporter": "python",
   "pygments_lexer": "ipython3",
   "version": "3.8.6"
  }
 },
 "nbformat": 4,
 "nbformat_minor": 4
}
