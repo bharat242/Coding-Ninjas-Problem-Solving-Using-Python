{
 "cells": [
  {
   "cell_type": "markdown",
   "metadata": {},
   "source": [
    "# Rectangular numbers\n",
    "Print the following pattern for the given number of rows.<br>\n",
    "<br>\n",
    "Pattern for N = 4<br>\n",
    "4444444<br>\n",
    "4333334<br>\n",
    "4322234<br>\n",
    "4321234<br>\n",
    "4322234<br>\n",
    "4333334 <br>\n",
    "4444444<br>\n",
    "<br>\n",
    "Input format : N (Total no. of rows)<br>\n",
    "Output format : Pattern in N lines<br>\n",
    "<br>\n",
    "Sample Input :<br>\n",
    "3<br>\n",
    "Sample Output :<br>\n",
    "33333<br>\n",
    "32223<br>\n",
    "32123<br>\n",
    "32223<br>\n",
    "33333"
   ]
  },
  {
   "cell_type": "code",
   "execution_count": null,
   "metadata": {},
   "outputs": [],
   "source": [
    "n=int(input())\n",
    "pattern_1=n\n",
    "\n",
    "for i in range (1,n+1):\n",
    "    pattern_3 = n\n",
    "    for k in range(1,i):\n",
    "        print(pattern_3,end=\"\")\n",
    "        pattern_3-=1\n",
    "    for j in range (1,2*n+2-2*i):\n",
    "        print(pattern_1,end=\"\")\n",
    "    pattern_1 -= 1\n",
    "\n",
    "    for l in range (1,i):\n",
    "        pattern_3+=1\n",
    "        print(pattern_3,end=\"\")\n",
    "    print(\"\")\n",
    "\n",
    "\n",
    "pattern_1=2\n",
    "\n",
    "for i in range (n,1,-1):\n",
    "    pattern_3 = n\n",
    "    for k in range(1,i):\n",
    "        print(pattern_3,end=\"\")\n",
    "        pattern_3-=1\n",
    "    for j in range (1,2*n+2-2*i):\n",
    "        print(pattern_1,end=\"\")\n",
    "    pattern_1+= 1\n",
    "\n",
    "    for l in range (1,i):\n",
    "        pattern_3+=1\n",
    "        print(pattern_3,end=\"\")\n",
    "    print(\"\")"
   ]
  }
 ],
 "metadata": {
  "kernelspec": {
   "display_name": "Python 3",
   "language": "python",
   "name": "python3"
  },
  "language_info": {
   "codemirror_mode": {
    "name": "ipython",
    "version": 3
   },
   "file_extension": ".py",
   "mimetype": "text/x-python",
   "name": "python",
   "nbconvert_exporter": "python",
   "pygments_lexer": "ipython3",
   "version": "3.8.6"
  }
 },
 "nbformat": 4,
 "nbformat_minor": 4
}
