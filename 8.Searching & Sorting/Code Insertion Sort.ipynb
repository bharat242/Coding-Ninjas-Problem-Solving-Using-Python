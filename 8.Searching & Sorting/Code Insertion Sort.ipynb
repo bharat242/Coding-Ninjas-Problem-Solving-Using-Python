{
 "cells": [
  {
   "cell_type": "markdown",
   "metadata": {},
   "source": [
    "# Code Insertion Sort\n",
    "Provided with a random integer array/list(ARR) of size N, you have been required to sort this array using 'Insertion Sort'.<br>\n",
    " Note:<br>\n",
    "Change in the input array/list itself. You don't need to return or print the elements.<br>\n",
    "<br>\n",
    " Input format :<br>\n",
    "The first line contains an Integer 't' which denotes the number of test cases or queries to be run. Then the test cases follow.<br>\n",
    "<br>\n",
    "First line of each test case or query contains an integer 'N' representing the size of the array/list.<br>\n",
    "<br>\n",
    "Second line contains 'N' single space separated integers representing the elements in the array/list.<br>\n",
    "<br>\n",
    "Output Format :<br>\n",
    "For each test case, print the elements of the array/list in sorted order separated by a single space.<br>\n",
    "<br>\n",
    "Output for every test case will be printed in a separate line.<br>\n",
    "<br>\n",
    "Constraints :<br>\n",
    "1 <= t <= 10^2<br>\n",
    "0 <= N <= 10^3<br>\n",
    "Time Limit: 1 sec<br>\n",
    "Sample Input 1:<br>\n",
    "1<br>\n",
    "7<br>\n",
    "2 13 4 1 3 6 28<br>\n",
    "Sample Output 1:<br>\n",
    "1 2 3 4 6 13 28<br>\n",
    "Sample Input 2:<br>\n",
    "2<br>\n",
    "5<br>\n",
    "9 3 6 2 0<br>\n",
    "4<br>\n",
    "4 3 2 1<br>\n",
    "Sample Output 2:<br>\n",
    "0 2 3 6 9<br>\n",
    "1 2 3 4"
   ]
  },
  {
   "cell_type": "code",
   "execution_count": null,
   "metadata": {},
   "outputs": [],
   "source": [
    "def insertsort(arr):\n",
    "    length=len(arr)\n",
    "    for i in range(1,length):\n",
    "        j=i-1\n",
    "        temp=arr[i]\n",
    "        while(j>=0 and arr[j]>temp):\n",
    "            arr[j+1]=arr[j]\n",
    "            j=j-1\n",
    "        arr[j+1]=temp\n",
    "loop=int(input())\n",
    "arr=[]\n",
    "for p in range(loop):\n",
    "    ele=int(input())\n",
    "    if ele!=0:\n",
    "        arr=[int(r) for r in input().split()]\n",
    "    else:\n",
    "        break\n",
    "    insertsort(arr)\n",
    "    print(*arr,\" \")"
   ]
  }
 ],
 "metadata": {
  "kernelspec": {
   "display_name": "Python 3",
   "language": "python",
   "name": "python3"
  },
  "language_info": {
   "codemirror_mode": {
    "name": "ipython",
    "version": 3
   },
   "file_extension": ".py",
   "mimetype": "text/x-python",
   "name": "python",
   "nbconvert_exporter": "python",
   "pygments_lexer": "ipython3",
   "version": "3.8.6"
  }
 },
 "nbformat": 4,
 "nbformat_minor": 4
}
