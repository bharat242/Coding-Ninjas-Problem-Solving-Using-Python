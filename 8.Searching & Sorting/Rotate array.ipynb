{
 "cells": [
  {
   "cell_type": "markdown",
   "metadata": {},
   "source": [
    "# Rotate array\n",
    "You have been given a random integer array/list(ARR) of size N. Write a function that rotates the given array/list by D elements(towards the left).<br>\n",
    "<br>\n",
    "Note:<br>\n",
    "Change in the input array/list itself. You don't need to return or print the elements.<br>\n",
    "<br>\n",
    "Input format :<br>\n",
    "The first line contains an Integer 't' which denotes the number of test cases or queries to be run. Then the test cases follow.<br>\n",
    "<br>\n",
    "First line of each test case or query contains an integer 'N' representing the size of the array/list.<br>\n",
    "<br>\n",
    "Second line contains 'N' single space separated integers representing the elements in the array/list.<br>\n",
    "<br>\n",
    "Third line contains the value of 'D' by which the array/list needs to be rotated.<br>\n",
    "<br>\n",
    "Output Format :<br>\n",
    "For each test case, print the rotated array/list in a row separated by a single space.<br>\n",
    "<br>\n",
    "Output for every test case will be printed in a separate line.<br>\n",
    "<br>\n",
    "Constraints :<br>\n",
    "1 <= t <= 10^4<br>\n",
    "0 <= N <= 10^6<br>\n",
    "0 <= D <= N<br>\n",
    "Time Limit: 1 sec<br>\n",
    "<br>\n",
    "Sample Input 1:<br>\n",
    "1<br>\n",
    "7<br>\n",
    "1 2 3 4 5 6 7<br>\n",
    "2<br>\n",
    "Sample Output 1:<br>\n",
    "3 4 5 6 7 1 2<br>\n",
    "Sample Input 2:<br>\n",
    "2<br>\n",
    "7<br>\n",
    "1 2 3 4 5 6 7<br>\n",
    "0<br>\n",
    "4<br>\n",
    "1 2 3 4<br>\n",
    "2<br>\n",
    "Sample Output 2:<br>\n",
    "1 2 3 4 5 6 7<br>\n",
    "3 4 1 2"
   ]
  },
  {
   "cell_type": "code",
   "execution_count": null,
   "metadata": {},
   "outputs": [],
   "source": [
    "loop=int(input())\n",
    "n=[]\n",
    "n1=[]\n",
    "for i in range(loop):\n",
    "    no_of_ele=int(input())\n",
    "    if no_of_ele !=0:\n",
    "        n=[int(x) for x in input().split()]\n",
    "    no_rotate=int(input())\n",
    "    if no_of_ele!=no_rotate:\n",
    "        n1=n[no_rotate:]\n",
    "        n1.extend(n[0:no_rotate])       \n",
    "    print(*n1)"
   ]
  },
  {
   "cell_type": "code",
   "execution_count": null,
   "metadata": {},
   "outputs": [],
   "source": [
    "#Another Code\n",
    "loop=int(input())\n",
    "n=[]\n",
    "for i in range(loop):\n",
    "    no_of_ele=int(input())\n",
    "    if no_of_ele !=0:\n",
    "        n=[int(x) for x in input().split()]\n",
    "    no_rotate=int(input())\n",
    "    for p in range(no_rotate):\n",
    "        n.append(n[0])\n",
    "        n.pop(0)\n",
    "    print(*n)"
   ]
  }
 ],
 "metadata": {
  "kernelspec": {
   "display_name": "Python 3",
   "language": "python",
   "name": "python3"
  },
  "language_info": {
   "codemirror_mode": {
    "name": "ipython",
    "version": 3
   },
   "file_extension": ".py",
   "mimetype": "text/x-python",
   "name": "python",
   "nbconvert_exporter": "python",
   "pygments_lexer": "ipython3",
   "version": "3.8.6"
  }
 },
 "nbformat": 4,
 "nbformat_minor": 4
}
