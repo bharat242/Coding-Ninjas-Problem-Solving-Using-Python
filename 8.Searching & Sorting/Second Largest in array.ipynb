{
 "cells": [
  {
   "cell_type": "markdown",
   "metadata": {},
   "source": [
    "# Second Largest in array\n",
    "You have been given a random integer array/list(ARR) of size N. You are required to find and return the second largest element present in the array/list.<br>\n",
    "If N <= 1 or all the elements are same in the array/list then return -2147483648 or -2 ^ 31(It is the smallest value for the range of Integer)<br>\n",
    "<br>\n",
    "Input format :<br>\n",
    "The first line contains an Integer 't' which denotes the number of test cases or queries to be run. Then the test cases follow.<br>\n",
    "<br>\n",
    "The first line of each test case or query contains an integer 'N' representing the size of the array/list.<br>\n",
    "<br>\n",
    "The second line contains 'N' single space separated integers representing the elements in the array/list.<br>\n",
    "<br>\n",
    "Output Format :<br>\n",
    "For each test case, print the second largest in the array/list if exists, -2147483648 otherwise.<br>\n",
    "<br>\n",
    "Output for every test case will be printed in a separate line.<br>\n",
    "<br>\n",
    "Constraints :<br>\n",
    "1 <= t <= 10^2<br>\n",
    "0 <= N <= 10^5<br>\n",
    "<br>\n",
    "Time Limit: 1 sec<br>\n",
    "Sample Input 1:<br>\n",
    "1<br>\n",
    "7<br>\n",
    "2 13 4 1 3 6 28<br>\n",
    "Sample Output 1:<br>\n",
    "13<br>\n",
    "Sample Input 2:<br>\n",
    "1<br>\n",
    "5<br>\n",
    "9 3 6 2 9<br>\n",
    "Sample Output 2:<br>\n",
    "6<br>\n",
    "Sample Input 3:<br>\n",
    "2<br>\n",
    "2<br>\n",
    "6 6<br>\n",
    "4<br>\n",
    "90 8 90 5<br>\n",
    "Sample Output 3:<br>\n",
    "-2147483648<br>\n",
    "8"
   ]
  },
  {
   "cell_type": "code",
   "execution_count": null,
   "metadata": {},
   "outputs": [],
   "source": [
    "loop=int(input())\n",
    "for p in range(loop):\n",
    "    list1=[]\n",
    "    n = int(input())\n",
    "    if n!=0:\n",
    "        list1=[int(x) for x in input().split()]\n",
    "        size = len(list1)\n",
    "        first = list1.count(list1[1])\n",
    "\n",
    "    if n<=1:\n",
    "        print(-2147483648)\n",
    "\n",
    "    elif first==size:\n",
    "        print(-2147483648)\n",
    "    else:\n",
    "        maxno=max(list1)\n",
    "        maxcount=list1.count(maxno)\n",
    "        for i in range(maxcount):\n",
    "            list1.remove(maxno)\n",
    "            list1.sort()\n",
    "        print(list1[-1])"
   ]
  }
 ],
 "metadata": {
  "kernelspec": {
   "display_name": "Python 3",
   "language": "python",
   "name": "python3"
  },
  "language_info": {
   "codemirror_mode": {
    "name": "ipython",
    "version": 3
   },
   "file_extension": ".py",
   "mimetype": "text/x-python",
   "name": "python",
   "nbconvert_exporter": "python",
   "pygments_lexer": "ipython3",
   "version": "3.8.6"
  }
 },
 "nbformat": 4,
 "nbformat_minor": 4
}
