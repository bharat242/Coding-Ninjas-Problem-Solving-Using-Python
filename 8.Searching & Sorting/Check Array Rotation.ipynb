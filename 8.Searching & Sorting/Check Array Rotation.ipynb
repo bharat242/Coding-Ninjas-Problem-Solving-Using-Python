{
 "cells": [
  {
   "cell_type": "markdown",
   "metadata": {},
   "source": [
    "# Check Array Rotation\n",
    "You have been given an integer array/list(ARR) of size N. It has been sorted(in increasing order) and then rotated by some number 'K' in the clockwise direction.<br>\n",
    "Your task is to write a function that returns the value of 'K', that means, the index from which the array/list has been rotated.<br>\n",
    "<br>\n",
    "Input format :<br>\n",
    "The first line contains an Integer 't' which denotes the number of test cases or queries to be run. Then the test cases follow.<br>\n",
    "<br>\n",
    "First line of each test case or query contains an integer 'N' representing the size of the array/list.<br>\n",
    "<br>\n",
    "Second line contains 'N' single space separated integers representing the elements in the array/list.<br>\n",
    "<br>\n",
    "Output Format :<br>\n",
    "For each test case, print the value of 'K' or the index from which which the array/list has been rotated.<br>\n",
    "<br>\n",
    "Output for every test case will be printed in a separate line.<br>\n",
    "<br>\n",
    "Constraints :<br>\n",
    "1 <= t <= 10^2<br>\n",
    "0 <= N <= 10^5<br>\n",
    "Time Limit: 1 sec<br>\n",
    "Sample Input 1:<br>\n",
    "1<br>\n",
    "6<br>\n",
    "5 6 1 2 3 4<br>\n",
    "Sample Output 1:<br>\n",
    "2<br>\n",
    "Sample Input 2:<br>\n",
    "2<br>\n",
    "5<br>\n",
    "3 6 8 9 10<br>\n",
    "4<br>\n",
    "10 20 30 1<br>\n",
    "Sample Output 2:<br>\n",
    "0<br>\n",
    "3"
   ]
  },
  {
   "cell_type": "code",
   "execution_count": null,
   "metadata": {},
   "outputs": [],
   "source": [
    "loop=int(input())\n",
    "list1=[]\n",
    "for i in range(loop):\n",
    "    ele=int(input())\n",
    "    if ele!=0:\n",
    "        list1=[int(x) for x in input().split()]\n",
    "    else:\n",
    "        print(0)\n",
    "        break\n",
    "    list2=list1.copy()\n",
    "    list2.sort()\n",
    "    f1=list2[0]\n",
    "    print(list1.index(f1))"
   ]
  }
 ],
 "metadata": {
  "kernelspec": {
   "display_name": "Python 3",
   "language": "python",
   "name": "python3"
  },
  "language_info": {
   "codemirror_mode": {
    "name": "ipython",
    "version": 3
   },
   "file_extension": ".py",
   "mimetype": "text/x-python",
   "name": "python",
   "nbconvert_exporter": "python",
   "pygments_lexer": "ipython3",
   "version": "3.8.6"
  }
 },
 "nbformat": 4,
 "nbformat_minor": 4
}
