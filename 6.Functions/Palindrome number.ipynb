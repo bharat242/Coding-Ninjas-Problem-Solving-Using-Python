{
 "cells": [
  {
   "cell_type": "markdown",
   "metadata": {},
   "source": [
    "# Palindrome number\n",
    "Write a program to determine if given number is palindrome or not. Print true if it is palindrome, false otherwise.<br>\n",
    "<br>\n",
    "Palindrome are the numbers for which reverse is exactly same as the original one. For eg. 121<br>\n",
    "<br>\n",
    "Sample Input 1 :<br>\n",
    "121<br>\n",
    "Sample Output 1 :<br>\n",
    "true<br>\n",
    "Sample Input 2 :<br>\n",
    "1032<br>\n",
    "Sample Output 2 :<br>\n",
    "false"
   ]
  },
  {
   "cell_type": "code",
   "execution_count": null,
   "metadata": {},
   "outputs": [],
   "source": [
    "def checkPalindrome(n):\n",
    "    Revese = 0\n",
    "    while n > 0:\n",
    "        Remainder = n % 10\n",
    "        n = int(n / 10)\n",
    "        Revese = Revese * 10 + Remainder\n",
    "    return Revese\n",
    "\n",
    "\n",
    "num = int(input())\n",
    "Rev=checkPalindrome(num)\n",
    "if (num==Rev):\n",
    "    print('true')\n",
    "else:\n",
    "    print('false')"
   ]
  }
 ],
 "metadata": {
  "kernelspec": {
   "display_name": "Python 3",
   "language": "python",
   "name": "python3"
  },
  "language_info": {
   "codemirror_mode": {
    "name": "ipython",
    "version": 3
   },
   "file_extension": ".py",
   "mimetype": "text/x-python",
   "name": "python",
   "nbconvert_exporter": "python",
   "pygments_lexer": "ipython3",
   "version": "3.8.6"
  }
 },
 "nbformat": 4,
 "nbformat_minor": 4
}
