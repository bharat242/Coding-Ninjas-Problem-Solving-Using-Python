{
 "cells": [
  {
   "cell_type": "markdown",
   "metadata": {},
   "source": [
    "# Check Armstrong\n",
    "Write a Program to determine if the given number is Armstrong number or not. Print true if number is armstrong, otherwise print false.<br>\n",
    "<br>\n",
    "An Armstrong number is a number (with digits n) such that the sum of its digits raised to nth power is equal to the number itself.<br>\n",
    "<br>\n",
    "For example,<br>\n",
    "371, as 3^3 + 7^3 + 1^3 = 371<br>\n",
    "1634, as 1^4 + 6^4 + 3^4 + 4^4 = 1634<br>\n",
    "<br>\n",
    "Input Format :<br>\n",
    "Integer n<br>\n",
    "<br>\n",
    "Output Format :<br>\n",
    "true or false<br>\n",
    "<br>\n",
    "Sample Input 1 :<br>\n",
    "1<br>\n",
    "Sample Output 1 :<br>\n",
    "true<br>\n",
    "Sample Input 2 :<br>\n",
    "103<br>\n",
    "Sample Output 2 :<br>\n",
    "false"
   ]
  },
  {
   "cell_type": "code",
   "execution_count": null,
   "metadata": {},
   "outputs": [],
   "source": [
    "n=int(input())\n",
    "no_of_digits=0\n",
    "org_n=n\n",
    "orginal_no=n\n",
    "Armstrong=0\n",
    "while n>0:\n",
    "    no_of_digits+=1\n",
    "    n=n//10\n",
    "while org_n>0:\n",
    "    Last_Digit = org_n % 10\n",
    "    Armstrong  = Armstrong  + ((Last_Digit)**(no_of_digits))\n",
    "    org_n = (org_n //10)\n",
    "if orginal_no==Armstrong:\n",
    "    print(\"true\")\n",
    "else:\n",
    "    print(\"false\")"
   ]
  }
 ],
 "metadata": {
  "kernelspec": {
   "display_name": "Python 3",
   "language": "python",
   "name": "python3"
  },
  "language_info": {
   "codemirror_mode": {
    "name": "ipython",
    "version": 3
   },
   "file_extension": ".py",
   "mimetype": "text/x-python",
   "name": "python",
   "nbconvert_exporter": "python",
   "pygments_lexer": "ipython3",
   "version": "3.8.6"
  }
 },
 "nbformat": 4,
 "nbformat_minor": 4
}
