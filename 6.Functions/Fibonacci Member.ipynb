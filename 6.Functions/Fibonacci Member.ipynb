{
 "cells": [
  {
   "cell_type": "markdown",
   "metadata": {},
   "source": [
    "# Fibonacci Member\n",
    "Given a number N, figure out if it is a member of fibonacci series or not. Return true if the number is member of fibonacci series else false.<br>\n",
    "<br>\n",
    "Fibonacci Series is defined by the recurrence<br>\n",
    " F(n) = F(n-1) + F(n-2)<br>\n",
    "where F(0) = 0 and F(1) = 1<br>\n",
    "<br>\n",
    "<br>\n",
    "Input Format :<br>\n",
    "Integer N<br>\n",
    "<br>\n",
    "Output Format :<br>\n",
    "true or false<br>\n",
    "<br>\n",
    "Constraints :<br>\n",
    "0 <= n <= 10^4<br>\n",
    "<br>\n",
    "Sample Input 1 :<br>\n",
    "5<br>\n",
    "Sample Output 1 :<br>\n",
    "true<br>\n",
    "Sample Input 2 :<br>\n",
    "14<br>\n",
    "Sample Output 2 :<br>\n",
    "false"
   ]
  },
  {
   "cell_type": "code",
   "execution_count": null,
   "metadata": {},
   "outputs": [],
   "source": [
    "#Python Code\n",
    "import math \n",
    "def isPerfectSquare(x): \n",
    "    s = int(math.sqrt(x)) \n",
    "    return s*s == x \n",
    "def isFibonacci(n): \n",
    "    return isPerfectSquare(5*n*n + 4) or isPerfectSquare(5*n*n - 4)\n",
    "\n",
    "n=int(input())\n",
    "if (isFibonacci(n)==True):\n",
    "    print(\"true\")\n",
    "else:\n",
    "    print(\"false\")"
   ]
  }
 ],
 "metadata": {
  "kernelspec": {
   "display_name": "Python 3",
   "language": "python",
   "name": "python3"
  },
  "language_info": {
   "codemirror_mode": {
    "name": "ipython",
    "version": 3
   },
   "file_extension": ".py",
   "mimetype": "text/x-python",
   "name": "python",
   "nbconvert_exporter": "python",
   "pygments_lexer": "ipython3",
   "version": "3.8.6"
  }
 },
 "nbformat": 4,
 "nbformat_minor": 4
}
