{
 "cells": [
  {
   "cell_type": "markdown",
   "metadata": {},
   "source": [
    "# Fahrenheit to Celsius Function\n",
    "Given three values - Start Fahrenheit Value (S), End Fahrenheit value (E) and Step Size (W), you need to convert all Fahrenheit values from Start to End at the gap of W, into their corresponding Celsius values and print the table.<br>\n",
    "<br>\n",
    "Input Format :<br>\n",
    "3 integers - S, E and W respectively<br>\n",
    "<br>\n",
    "Output Format :<br>\n",
    "Fahrenheit to Celsius conversion table. One line for every Fahrenheit and Celsius Fahrenheit value. Fahrenheit value and its corresponding Celsius value should be separate by tab (&quot;\\t&quot;)<br>\n",
    "<br>\n",
    "Constraints :<br>\n",
    "0 <= S <= 1000<br>\n",
    "0 <= E <= 1000<br>\n",
    "0 <= W <= 1000<br>\n",
    "<br>\n",
    "Sample Input 1:<br>\n",
    "0 <br>\n",
    "100 <br>\n",
    "20<br>\n",
    "Sample Output 1:<br>\n",
    "0 -17<br>\n",
    "20 -6<br>\n",
    "40 4<br>\n",
    "60 15<br>\n",
    "80 26<br>\n",
    "100 37<br>\n",
    "Sample Input 2:<br>\n",
    "120 <br>\n",
    "200 <br>\n",
    "40<br>\n",
    "Sample Output 2:<br>\n",
    "120 48<br>\n",
    "160 71<br>\n",
    "200 93<br>\n",
    "<br>\n",
    "Explanation for Sample Output 2 :<br>\n",
    "Start value is 120, end value is 200 and step size is 40. Therefore, the values we need to convert are 120, 120 + 40 = 160, and 160 + 40 = 200. <br>\n",
    "The formula for converting Fahrenheit to Celsius is:<br>\n",
    "Celsius Value = (5/9)*(Fahrenheit Value - 32) <br>\n",
    "Plugging 120 into the formula, the celsius value will be (5 / 9)*(120 - 32) => (5 / 9) * 88 => (5 * 88) / 9 => 440 / 9 => 48.88<br>\n",
    "But we'll only print 48 because we are only interested in the integral part of the value."
   ]
  },
  {
   "cell_type": "code",
   "execution_count": null,
   "metadata": {},
   "outputs": [],
   "source": [
    "def printTable(start,end,step):\n",
    "    while start <= end:\n",
    "        Fahrenheit_to_Celsius = (((start - 32) * 5) / 9)\n",
    "        print(start, int(Fahrenheit_to_Celsius))\n",
    "        start = start + step\n",
    "  \n",
    "s = int(input())\n",
    "e = int(input())\n",
    "step = int(input())\n",
    "printTable(s,e,step)"
   ]
  }
 ],
 "metadata": {
  "kernelspec": {
   "display_name": "Python 3",
   "language": "python",
   "name": "python3"
  },
  "language_info": {
   "codemirror_mode": {
    "name": "ipython",
    "version": 3
   },
   "file_extension": ".py",
   "mimetype": "text/x-python",
   "name": "python",
   "nbconvert_exporter": "python",
   "pygments_lexer": "ipython3",
   "version": "3.8.6"
  }
 },
 "nbformat": 4,
 "nbformat_minor": 4
}
