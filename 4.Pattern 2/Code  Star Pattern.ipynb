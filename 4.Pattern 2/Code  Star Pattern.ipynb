{
 "cells": [
  {
   "cell_type": "markdown",
   "metadata": {},
   "source": [
    "# Code : Star Pattern\n",
    "Print the following pattern<br>\n",
    "Pattern for N = 4<br>\n",
    "![StarPattern](https://imgpress.xyz/images/2021/10/11/0000000000003724.png)<br>\n",
    "The dots represent spaces.<br>\n",
    "Input Format :<br>\n",
    "N (Total no. of rows)<br>\n",
    "<br>\n",
    "Output Format :<br>\n",
    "Pattern in N lines<br>\n",
    "<br>\n",
    "Constraints :<br>\n",
    "0 <= N <= 50<br>\n",
    "<br>\n",
    "Sample Input 1 :<br>\n",
    "3<br>\n",
    "Sample Output 1 :<br>\n",
    "![](https://imgpress.xyz/images/2021/10/11/0af6b32---Imgur.png)<br>\n",
    "Note .The dots represent spaces.<br>\n",
    "Sample Input 2 :<br>\n",
    "4<br>\n",
    "Sample Output 2 :<br>\n",
    "![](https://imgpress.xyz/images/2021/10/11/RzHCeRh---Imgur.png)<br>\n",
    "Note .The dots represent spaces."
   ]
  },
  {
   "cell_type": "code",
   "execution_count": null,
   "metadata": {},
   "outputs": [],
   "source": [
    "n=int(input())\n",
    "currRow=1\n",
    "while currRow<=n:\n",
    "    spaces=1\n",
    "    while spaces<=n-currRow:\n",
    "        print(\" \",end=\"\")\n",
    "        spaces+=1\n",
    "    currCol=1\n",
    "    while currCol<=(2*currRow)-1:\n",
    "        print(\"*\",end=\"\")\n",
    "        currCol+=1\n",
    "    print()\n",
    "    currRow+=1"
   ]
  }
 ],
 "metadata": {
  "kernelspec": {
   "display_name": "Python 3",
   "language": "python",
   "name": "python3"
  },
  "language_info": {
   "codemirror_mode": {
    "name": "ipython",
    "version": 3
   },
   "file_extension": ".py",
   "mimetype": "text/x-python",
   "name": "python",
   "nbconvert_exporter": "python",
   "pygments_lexer": "ipython3",
   "version": "3.8.6"
  }
 },
 "nbformat": 4,
 "nbformat_minor": 4
}
