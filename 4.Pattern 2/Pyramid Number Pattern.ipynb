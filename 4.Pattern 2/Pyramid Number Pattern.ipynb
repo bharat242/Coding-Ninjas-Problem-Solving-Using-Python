{
 "cells": [
  {
   "cell_type": "markdown",
   "metadata": {},
   "source": [
    "# Pyramid Number Pattern\n",
    "Print the following pattern for the given number of rows.<br>\n",
    "<br>\n",
    "Pattern for N = 4<br>\n",
    "![Pyramid Number Pattern](https://imgpress.xyz/images/2021/10/11/gVui87R---Imgur.png)<br>\n",
    "Input format : N (Total no. of rows)<br>\n",
    "<br>\n",
    "Output format : Pattern in N lines<br>\n",
    "<br>\n",
    "Sample Input :<br>\n",
    "5<br>\n",
    "Sample Output :<br>\n",
    "![](https://imgpress.xyz/images/2021/10/11/KAwHgL3---Imgur-1.png)<br>\n",
    "Note.The dots represent spaces."
   ]
  },
  {
   "cell_type": "code",
   "execution_count": null,
   "metadata": {},
   "outputs": [],
   "source": [
    "n = int(input())\n",
    "num = 1\n",
    "gap = n - 1\n",
    "for j in range(1, n + 1):\n",
    "    num = j\n",
    "    for i in range(1, gap + 1):\n",
    "        print(\" \", end=\"\")\n",
    "    gap = gap - 1\n",
    "\n",
    "    for i in range(1, j + 1):\n",
    "        print(num, end=\"\")\n",
    "        num-=1\n",
    "    num=2\n",
    "    for i in range(1, j):\n",
    "        print(num, end=\"\")\n",
    "        num+=1\n",
    "\n",
    "    print()"
   ]
  }
 ],
 "metadata": {
  "kernelspec": {
   "display_name": "Python 3",
   "language": "python",
   "name": "python3"
  },
  "language_info": {
   "codemirror_mode": {
    "name": "ipython",
    "version": 3
   },
   "file_extension": ".py",
   "mimetype": "text/x-python",
   "name": "python",
   "nbconvert_exporter": "python",
   "pygments_lexer": "ipython3",
   "version": "3.8.6"
  }
 },
 "nbformat": 4,
 "nbformat_minor": 4
}
