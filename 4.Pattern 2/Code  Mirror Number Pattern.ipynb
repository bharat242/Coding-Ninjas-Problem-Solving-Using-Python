{
 "cells": [
  {
   "cell_type": "markdown",
   "metadata": {},
   "source": [
    "# Code : Mirror Number Pattern\n",
    "Print the following pattern for the given N number of rows.<br><br>\n",
    "\n",
    "Pattern for N = 4<br>\n",
    "![CodeMirrorNumberPattern](https://imgpress.xyz/images/2021/10/11/0000000000003723.png)<br>\n",
    "The dots represent spaces.<br>\n",
    "Input format :<br>\n",
    "Integer N (Total no. of rows)<br>\n",
    "<br>\n",
    "Output format :<br>\n",
    "Pattern in N lines<br>\n",
    "<br>\n",
    "Constraints<br>\n",
    "0 <= N <= 50<br>\n",
    "<br>\n",
    "Sample Input 1:<br>\n",
    "3<br>\n",
    "Sample Output 1:<br>\n",
    "![CodeMirrorNumberPattern](https://imgpress.xyz/images/2021/10/11/GY9xuMl---Imgur.png)<br>\n",
    "Sample Input 2:<br>\n",
    "4<br>\n",
    "Sample Output 2:<br>\n",
    "![CodeMirrorNumberPattern](https://imgpress.xyz/images/2021/10/11/0000000000003723-1.png)<br>"
   ]
  },
  {
   "cell_type": "code",
   "execution_count": 2,
   "metadata": {},
   "outputs": [
    {
     "name": "stdout",
     "output_type": "stream",
     "text": [
      "4\n",
      "   1\n",
      "  12\n",
      " 123\n",
      "1234\n"
     ]
    }
   ],
   "source": [
    "n=int(input())\n",
    "currRow=1\n",
    "while currRow<=n:\n",
    "    currCol=1\n",
    "    spaces=1\n",
    "    while spaces<=n-currRow:\n",
    "        print(\" \",end=\"\")\n",
    "        spaces+=1\n",
    "    while currCol<=currRow:\n",
    "        print(currCol,end=\"\")\n",
    "        currCol+=1\n",
    "    print()\n",
    "    currRow+=1"
   ]
  }
 ],
 "metadata": {
  "kernelspec": {
   "display_name": "Python 3",
   "language": "python",
   "name": "python3"
  },
  "language_info": {
   "codemirror_mode": {
    "name": "ipython",
    "version": 3
   },
   "file_extension": ".py",
   "mimetype": "text/x-python",
   "name": "python",
   "nbconvert_exporter": "python",
   "pygments_lexer": "ipython3",
   "version": "3.8.6"
  }
 },
 "nbformat": 4,
 "nbformat_minor": 4
}
