{
 "cells": [
  {
   "cell_type": "markdown",
   "metadata": {},
   "source": [
    "# Code : Inverted Number Pattern\n",
    "Print the following pattern for the given N number of rows.<br>\n",
    "<br>\n",
    "Pattern for N = 4<br>\n",
    "4444<br>\n",
    "333<br>\n",
    "22<br>\n",
    "1<br>\n",
    "<br>\n",
    "Input format :<br>\n",
    "Integer N (Total no. of rows)<br>\n",
    "<br>\n",
    "Output format :<br>\n",
    "Pattern in N lines<br>\n",
    "<br>\n",
    "Constraints :<br>\n",
    "0 <= N <= 50<br>\n",
    "<br>\n",
    "Sample Input 1:<br>\n",
    "5<br>\n",
    "Sample Output 1:<br>\n",
    "55555 <br>\n",
    "4444<br>\n",
    "333<br>\n",
    "22<br>\n",
    "1<br>\n",
    "Sample Input 2:<br>\n",
    "6<br>\n",
    "Sample Output 2:<br>\n",
    "666666<br>\n",
    "55555 <br>\n",
    "4444<br>\n",
    "333<br>\n",
    "22<br>\n",
    "1"
   ]
  },
  {
   "cell_type": "code",
   "execution_count": null,
   "metadata": {},
   "outputs": [],
   "source": [
    "n=int(input())\n",
    "currRow=1\n",
    "while currRow<=n:\n",
    "    currCol=1\n",
    "    while currCol<=(n-currRow+1):\n",
    "        print(n-currRow+1,end=\"\")\n",
    "        currCol+=1\n",
    "    print()\n",
    "    currRow+=1"
   ]
  }
 ],
 "metadata": {
  "kernelspec": {
   "display_name": "Python 3",
   "language": "python",
   "name": "python3"
  },
  "language_info": {
   "codemirror_mode": {
    "name": "ipython",
    "version": 3
   },
   "file_extension": ".py",
   "mimetype": "text/x-python",
   "name": "python",
   "nbconvert_exporter": "python",
   "pygments_lexer": "ipython3",
   "version": "3.8.6"
  }
 },
 "nbformat": 4,
 "nbformat_minor": 4
}
