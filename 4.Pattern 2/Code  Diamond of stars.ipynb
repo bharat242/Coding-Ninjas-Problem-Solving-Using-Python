{
 "cells": [
  {
   "cell_type": "markdown",
   "metadata": {},
   "source": [
    "# Code : Diamond of stars\n",
    "Print the following pattern for the given number of rows.<br>\n",
    "Note: N is always odd.<br>\n",
    "Pattern for N = 5<br>\n",
    "![DiamondOfStars](https://imgpress.xyz/images/2021/10/11/Xlk5UcG---Imgur-2.png)<br>\n",
    "The dots represent spaces.<br>\n",
    "Input format :<br>\n",
    "N (Total no. of rows and can only be odd)<br>\n",
    "<br>\n",
    "Output format :<br>\n",
    "Pattern in N lines<br>\n",
    "<br>\n",
    "Constraints :<br>\n",
    "1 <= N <= 49<br>\n",
    "<br>\n",
    "Sample Input 1:<br>\n",
    "3<br>\n",
    "Sample Output 1:<br>\n",
    "![](https://imgur.com/download/vQWmjvM)<br>\n",
    "Sample Input 2:<br>\n",
    "5<br>\n",
    "Sample Output 2:<br>\n",
    "![](https://imgur.com/download/0FSHgx4)"
   ]
  },
  {
   "cell_type": "code",
   "execution_count": null,
   "metadata": {},
   "outputs": [],
   "source": [
    "n=int(input())\n",
    "firstHalf=(n+1)//2\n",
    "secHalf=(n)//2\n",
    "\n",
    "#First Half\n",
    "currRow=1\n",
    "while currRow<=firstHalf:\n",
    "    spaces=1\n",
    "    while spaces<=(firstHalf-currRow):\n",
    "        print(' ',end=\"\")\n",
    "        spaces+=1\n",
    "    currcol=1\n",
    "    while currcol<=(2*currRow)-1:\n",
    "        print(\"*\",end=\"\")\n",
    "        currcol+=1\n",
    "    print()\n",
    "    currRow+=1\n",
    "\n",
    "#Secound Half\n",
    "currRow=secHalf\n",
    "while currRow>=1:\n",
    "    spaces=1\n",
    "    while spaces<=(secHalf-currRow+1):\n",
    "        print(\" \",end=\"\")\n",
    "        spaces+=1\n",
    "    currcol=1\n",
    "    while currcol<=(2*currRow)-1:\n",
    "        print(\"*\",end=\"\")\n",
    "        currcol+=1\n",
    "    print()\n",
    "    currRow-=1"
   ]
  },
  {
   "cell_type": "code",
   "execution_count": 1,
   "metadata": {},
   "outputs": [
    {
     "name": "stdout",
     "output_type": "stream",
     "text": [
      "9\n",
      "    *\n",
      "   ***\n",
      "  *****\n",
      " *******\n",
      "*********\n",
      " *******\n",
      "  *****\n",
      "   ***\n",
      "    *\n"
     ]
    }
   ],
   "source": [
    "#Another Solution\n",
    "n=int(input())\n",
    "first=n//2+1\n",
    "sec=n//2\n",
    "#first loop\n",
    "for i in range(1,first+1):\n",
    "    print(\" \"*(first-i),end=\"\")\n",
    "    print((2*i-1)*\"*\",end=\"\")\n",
    "    print()\n",
    "#Second Loop\n",
    "for p in range(1,sec+1):\n",
    "    print(\" \"*p,end=\"\")\n",
    "    print((2*(sec-p+1)-1)*\"*\",end=\"\")\n",
    "    print()"
   ]
  }
 ],
 "metadata": {
  "kernelspec": {
   "display_name": "Python 3",
   "language": "python",
   "name": "python3"
  },
  "language_info": {
   "codemirror_mode": {
    "name": "ipython",
    "version": 3
   },
   "file_extension": ".py",
   "mimetype": "text/x-python",
   "name": "python",
   "nbconvert_exporter": "python",
   "pygments_lexer": "ipython3",
   "version": "3.8.6"
  }
 },
 "nbformat": 4,
 "nbformat_minor": 4
}
