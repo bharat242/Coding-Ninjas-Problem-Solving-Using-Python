{
 "cells": [
  {
   "cell_type": "markdown",
   "metadata": {},
   "source": [
    "# Zeros and Stars Pattern\n",
    "Print the following pattern<br>\n",
    "Pattern for N = 4<br>\n",
    "![ZerosandStarsPattern](https://imgpress.xyz/images/2021/10/11/iUdwaMY---Imgur.png)<br>\n",
    "Input Format : N (Total no. of rows)<br>\n",
    "<br>\n",
    "Output Format : Pattern in N lines<br>\n",
    "<br>\n",
    "Sample Input 1 :<br>\n",
    "3<br>\n",
    "Sample Output 1 :<br>\n",
    "![](https://imgpress.xyz/images/2021/10/11/VZgJBG8---Imgur.png)<br>\n",
    "Sample Input 2 :<br>\n",
    "5<br>\n",
    "Sample Output 2 :<br>\n",
    "![](https://imgpress.xyz/images/2021/10/11/zEhIMUr---Imgur.png)"
   ]
  },
  {
   "cell_type": "code",
   "execution_count": null,
   "metadata": {},
   "outputs": [],
   "source": [
    "n=int(input())\n",
    "start=1\n",
    "end=2*n+1\n",
    "mid=n+1\n",
    "row=1\n",
    "while(row<=n):\n",
    "    column=1\n",
    "    while column<=(2*n+1):\n",
    "        if column==start or column==end or column==mid:\n",
    "            print(\"*\",end='')\n",
    "        else:\n",
    "            print(\"0\",end=\"\")\n",
    "        column=column+1\n",
    "    start=start+1\n",
    "    end=end-1\n",
    "    row=row+1\n",
    "    print()"
   ]
  }
 ],
 "metadata": {
  "kernelspec": {
   "display_name": "Python 3",
   "language": "python",
   "name": "python3"
  },
  "language_info": {
   "codemirror_mode": {
    "name": "ipython",
    "version": 3
   },
   "file_extension": ".py",
   "mimetype": "text/x-python",
   "name": "python",
   "nbconvert_exporter": "python",
   "pygments_lexer": "ipython3",
   "version": "3.8.6"
  }
 },
 "nbformat": 4,
 "nbformat_minor": 4
}
