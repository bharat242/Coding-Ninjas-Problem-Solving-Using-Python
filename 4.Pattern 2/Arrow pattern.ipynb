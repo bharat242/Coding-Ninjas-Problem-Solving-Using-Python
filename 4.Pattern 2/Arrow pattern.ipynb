{
 "cells": [
  {
   "cell_type": "markdown",
   "metadata": {},
   "source": [
    "# Arrow pattern\n",
    "Print the following pattern for the given number of rows.\n",
    "<br>Assume N is always odd.\n",
    "<br>Note : There is space after every star.\n",
    "<br><b>Pattern for N = 7</b><br>\n",
    "\n",
    "[![Arrow pattern](https://imgpress.xyz/images/2021/10/11/NMsMCn7---Imgur-4.png)](https://imgpress.xyz/image/iegGX)<br>\n",
    "Note-Dote(.) represent the spaces <br>\n",
    "Input format :<br>\n",
    "Integer N (Total no. of rows)<br>\n",
    "<br>\n",
    "Output format :<br>\n",
    "Pattern in N lines<br>\n",
    "<br>\n",
    "Sample Input :<br>\n",
    "11<br>\n",
    "Sample Output :<br>\n",
    "[![](https://imgpress.xyz/images/2021/10/11/undefined---Imgur.md.png)](https://imgpress.xyz/image/iehrw)"
   ]
  },
  {
   "cell_type": "code",
   "execution_count": null,
   "metadata": {},
   "outputs": [],
   "source": [
    "n = int(input())\n",
    "i = 1\n",
    "n1 = (n - 1) / 2\n",
    "n = (n + 1) / 2\n",
    "while i <= n:\n",
    "    spaces = 2\n",
    "    while spaces <= i:\n",
    "        print(\" \", end=\"\")\n",
    "        spaces += 1\n",
    "    star = 1\n",
    "    while star <= i:\n",
    "        print(\"* \", end=\"\")\n",
    "        star += 1\n",
    "    print(\"\")\n",
    "    i = i + 1\n",
    "\n",
    "i = 1\n",
    "g = 0\n",
    "while i <= n1:\n",
    "    num_1 = n1 - 1\n",
    "    while num_1 >= i:\n",
    "        print(\" \", end=\"\")\n",
    "        num_1 -= 1\n",
    "\n",
    "    num_1 = n1 - 1\n",
    "    while num_1 >= g:\n",
    "        print(\"* \", end=\"\")\n",
    "        num_1 -= 1\n",
    "    print()\n",
    "    i = i + 1\n",
    "    g = g + 1\n"
   ]
  }
 ],
 "metadata": {
  "kernelspec": {
   "display_name": "Python 3",
   "language": "python",
   "name": "python3"
  },
  "language_info": {
   "codemirror_mode": {
    "name": "ipython",
    "version": 3
   },
   "file_extension": ".py",
   "mimetype": "text/x-python",
   "name": "python",
   "nbconvert_exporter": "python",
   "pygments_lexer": "ipython3",
   "version": "3.8.6"
  }
 },
 "nbformat": 4,
 "nbformat_minor": 4
}
