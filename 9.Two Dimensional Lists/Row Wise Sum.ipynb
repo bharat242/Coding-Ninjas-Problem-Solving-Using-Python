{
 "cells": [
  {
   "cell_type": "markdown",
   "metadata": {},
   "source": [
    "# Row Wise Sum\n",
    "For a given two-dimensional integer array/list of size (N x M), find and print the sum of each of the row elements in a single line, separated by a single space.<br>\n",
    "<br>\n",
    "Input Format :<br>\n",
    "The first line contains an Integer 't' which denotes the number of test cases or queries to be run. Then the test cases follow.<br>\n",
    "<br>\n",
    "First line of each test case or query contains two integer values, 'N' and 'M', separated by a single space. They represent the 'rows' and 'columns' respectively, for the two-dimensional array/list.<br>\n",
    "<br>\n",
    "Second line onwards, the next 'N' lines or rows represent the ith row values.<br>\n",
    "<br>\n",
    "Each of the ith row constitutes 'M' column values separated by a single space.<br>\n",
    "<br>\n",
    "Output Format :<br>\n",
    "For each test case, print the sum of every ith row elements in a single line separated by a single space.<br>\n",
    "<br>\n",
    "Output for every test case will be printed in a seperate line.<br>\n",
    "<br>\n",
    "Constraints :<br>\n",
    "1 <= t <= 10^2<br>\n",
    "0 <= N <= 10^3<br>\n",
    "0 <= M <= 10^3<br>\n",
    "Time Limit: 1sec<br>\n",
    "<br>\n",
    "Sample Input 1:<br>\n",
    "1<br>\n",
    "4 2 <br>\n",
    "1 2 <br>\n",
    "3 4 <br>\n",
    "5 6 <br>\n",
    "7 8<br>\n",
    "Sample Output 1:<br>\n",
    "3 7 11 15 <br>\n",
    "Sample Input 2:<br>\n",
    "2<br>\n",
    "2 5 <br>\n",
    "4 5 3 2 6 <br>\n",
    "7 5 3 8 9<br>\n",
    "4 4<br>\n",
    "1 2 3 4<br>\n",
    "9 8 7 6<br>\n",
    "3 4 5 6<br>\n",
    "-1 1 -10 5<br>\n",
    "Sample Output 2:<br>\n",
    "20 32 <br>\n",
    "10 30 18 -5"
   ]
  },
  {
   "cell_type": "code",
   "execution_count": null,
   "metadata": {},
   "outputs": [],
   "source": [
    "p=int(input())\n",
    "for i in range(p):\n",
    "    str=input().split()\n",
    "    n,m=int(str[0]),int(str[1])\n",
    "    arr=[]\n",
    "    for i in range(n):\n",
    "        b=input().split()\n",
    "        arrr=[int(x) for x in b]\n",
    "        print(sum(arrr),end=\" \")\n",
    "    print()"
   ]
  }
 ],
 "metadata": {
  "kernelspec": {
   "display_name": "Python 3",
   "language": "python",
   "name": "python3"
  },
  "language_info": {
   "codemirror_mode": {
    "name": "ipython",
    "version": 3
   },
   "file_extension": ".py",
   "mimetype": "text/x-python",
   "name": "python",
   "nbconvert_exporter": "python",
   "pygments_lexer": "ipython3",
   "version": "3.8.6"
  }
 },
 "nbformat": 4,
 "nbformat_minor": 4
}
