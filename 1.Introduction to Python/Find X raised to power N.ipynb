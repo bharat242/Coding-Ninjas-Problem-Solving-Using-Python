{
 "cells": [
  {
   "cell_type": "markdown",
   "metadata": {},
   "source": [
    "# Find X raised to power N\n",
    "You are given two integers: X and N. You have to calculate X raised to power N and print it.<br>\n",
    "<br>\n",
    "Input format:<br>\n",
    "The first line of input contains an integer X (1 <= X <= 100)<br>\n",
    "The second line of input contains an integer N (1 <= N <= 10) <br>\n",
    "<br>\n",
    "Constraints:<br>\n",
    "Time Limit: 1 second<br>\n",
    "<br>\n",
    "Output format:<br>\n",
    "The first and only line of output contains the result. <br>\n",
    "<br>\n",
    "Sample Input:<br>\n",
    "10<br>\n",
    "4<br>\n",
    "Sample Output:<br>\n",
    "10000"
   ]
  },
  {
   "cell_type": "code",
   "execution_count": null,
   "metadata": {},
   "outputs": [],
   "source": [
    "X=int(input())\n",
    "N=int(input())\n",
    "\n",
    "print(X**N)"
   ]
  }
 ],
 "metadata": {
  "kernelspec": {
   "display_name": "Python 3",
   "language": "python",
   "name": "python3"
  },
  "language_info": {
   "codemirror_mode": {
    "name": "ipython",
    "version": 3
   },
   "file_extension": ".py",
   "mimetype": "text/x-python",
   "name": "python",
   "nbconvert_exporter": "python",
   "pygments_lexer": "ipython3",
   "version": "3.8.6"
  }
 },
 "nbformat": 4,
 "nbformat_minor": 4
}
