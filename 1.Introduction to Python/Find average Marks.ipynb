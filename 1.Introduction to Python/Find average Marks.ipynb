{
 "cells": [
  {
   "cell_type": "markdown",
   "metadata": {},
   "source": [
    "# Find average Marks\n",
    "Write a program to input marks of three tests of a student (all integers). Then calculate and print the average of all test marks.<br>\n",
    "<br>\n",
    "Input format :<br>\n",
    "3 Test marks (in different lines)<br>\n",
    "Output format :<br>\n",
    "Average<br>\n",
    "<br>\n",
    "Sample Input 1 :<br>\n",
    "3 <br>\n",
    "4 <br>\n",
    "6<br>\n",
    "Sample Output 1 :<br>\n",
    "4.333333333333333<br>\n",
    "<br>\n",
    "Sample Input 2 :<br>\n",
    "5 <br>\n",
    "10 <br>\n",
    "5<br>\n",
    "Sample Output 2 :<br>\n",
    "6.666666666666667"
   ]
  },
  {
   "cell_type": "code",
   "execution_count": null,
   "metadata": {},
   "outputs": [],
   "source": [
    "sub_1=int(input(\"\"))\n",
    "sub_2=int(input(\"\"))\n",
    "sub_3=int(input(\"\"))\n",
    "Average_of_3_subjects=(sub_1+sub_2+sub_3)\n",
    "print(Average_of_3_subjects/3)"
   ]
  }
 ],
 "metadata": {
  "kernelspec": {
   "display_name": "Python 3",
   "language": "python",
   "name": "python3"
  },
  "language_info": {
   "codemirror_mode": {
    "name": "ipython",
    "version": 3
   },
   "file_extension": ".py",
   "mimetype": "text/x-python",
   "name": "python",
   "nbconvert_exporter": "python",
   "pygments_lexer": "ipython3",
   "version": "3.8.6"
  }
 },
 "nbformat": 4,
 "nbformat_minor": 4
}
